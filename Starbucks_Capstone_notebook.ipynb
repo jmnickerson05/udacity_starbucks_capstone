{
 "cells": [
  {
   "cell_type": "markdown",
   "metadata": {},
   "source": [
    "# Starbucks Capstone Challenge\n",
    "\n",
    "### Introduction\n",
    "\n",
    "This data set contains simulated data that mimics customer behavior on the Starbucks rewards mobile app. Once every few days, Starbucks sends out an offer to users of the mobile app. An offer can be merely an advertisement for a drink or an actual offer such as a discount or BOGO (buy one get one free). Some users might not receive any offer during certain weeks. \n",
    "\n",
    "Not all users receive the same offer, and that is the challenge to solve with this data set.\n",
    "\n",
    "Your task is to combine transaction, demographic and offer data to determine which demographic groups respond best to which offer type. This data set is a simplified version of the real Starbucks app because the underlying simulator only has one product whereas Starbucks actually sells dozens of products.\n",
    "\n",
    "Every offer has a validity period before the offer expires. As an example, a BOGO offer might be valid for only 5 days. You'll see in the data set that informational offers have a validity period even though these ads are merely providing information about a product; for example, if an informational offer has 7 days of validity, you can assume the customer is feeling the influence of the offer for 7 days after receiving the advertisement.\n",
    "\n",
    "You'll be given transactional data showing user purchases made on the app including the timestamp of purchase and the amount of money spent on a purchase. This transactional data also has a record for each offer that a user receives as well as a record for when a user actually views the offer. There are also records for when a user completes an offer. \n",
    "\n",
    "Keep in mind as well that someone using the app might make a purchase through the app without having received an offer or seen an offer.\n",
    "\n",
    "### Example\n",
    "\n",
    "To give an example, a user could receive a discount offer buy 10 dollars get 2 off on Monday. The offer is valid for 10 days from receipt. If the customer accumulates at least 10 dollars in purchases during the validity period, the customer completes the offer.\n",
    "\n",
    "However, there are a few things to watch out for in this data set. Customers do not opt into the offers that they receive; in other words, a user can receive an offer, never actually view the offer, and still complete the offer. For example, a user might receive the \"buy 10 dollars get 2 dollars off offer\", but the user never opens the offer during the 10 day validity period. The customer spends 15 dollars during those ten days. There will be an offer completion record in the data set; however, the customer was not influenced by the offer because the customer never viewed the offer.\n",
    "\n",
    "### Cleaning\n",
    "\n",
    "This makes data cleaning especially important and tricky.\n",
    "\n",
    "You'll also want to take into account that some demographic groups will make purchases even if they don't receive an offer. From a business perspective, if a customer is going to make a 10 dollar purchase without an offer anyway, you wouldn't want to send a buy 10 dollars get 2 dollars off offer. You'll want to try to assess what a certain demographic group will buy when not receiving any offers.\n",
    "\n",
    "### Final Advice\n",
    "\n",
    "Because this is a capstone project, you are free to analyze the data any way you see fit. For example, you could build a machine learning model that predicts how much someone will spend based on demographics and offer type. Or you could build a model that predicts whether or not someone will respond to an offer. Or, you don't need to build a machine learning model at all. You could develop a set of heuristics that determine what offer you should send to each customer (i.e., 75 percent of women customers who were 35 years old responded to offer A vs 40 percent from the same demographic to offer B, so send offer A)."
   ]
  },
  {
   "cell_type": "markdown",
   "metadata": {},
   "source": [
    "# Data Sets\n",
    "\n",
    "The data is contained in three files:\n",
    "\n",
    "* portfolio.json - containing offer ids and meta data about each offer (duration, type, etc.)\n",
    "* profile.json - demographic data for each customer\n",
    "* transcript.json - records for transactions, offers received, offers viewed, and offers completed\n",
    "\n",
    "Here is the schema and explanation of each variable in the files:\n",
    "\n",
    "**portfolio.json**\n",
    "* id (string) - offer id\n",
    "* offer_type (string) - type of offer ie BOGO, discount, informational\n",
    "* difficulty (int) - minimum required spend to complete an offer\n",
    "* reward (int) - reward given for completing an offer\n",
    "* duration (int) - time for offer to be open, in days\n",
    "* channels (list of strings)\n",
    "\n",
    "**profile.json**\n",
    "* age (int) - age of the customer \n",
    "* became_member_on (int) - date when customer created an app account\n",
    "* gender (str) - gender of the customer (note some entries contain 'O' for other rather than M or F)\n",
    "* id (str) - customer id\n",
    "* income (float) - customer's income\n",
    "\n",
    "**transcript.json**\n",
    "* event (str) - record description (ie transaction, offer received, offer viewed, etc.)\n",
    "* person (str) - customer id\n",
    "* time (int) - time in hours since start of test. The data begins at time t=0\n",
    "* value - (dict of strings) - either an offer id or transaction amount depending on the record\n",
    "\n",
    "**Note:** If you are using the workspace, you will need to go to the terminal and run the command `conda update pandas` before reading in the files. This is because the version of pandas in the workspace cannot read in the transcript.json file correctly, but the newest version of pandas can. You can access the termnal from the orange icon in the top left of this notebook.  \n",
    "\n",
    "You can see how to access the terminal and how the install works using the two images below.  First you need to access the terminal:\n",
    "\n",
    "<img src=\"pic1.png\"/>\n",
    "\n",
    "Then you will want to run the above command:\n",
    "\n",
    "<img src=\"pic2.png\"/>\n",
    "\n",
    "Finally, when you enter back into the notebook (use the jupyter icon again), you should be able to run the below cell without any errors."
   ]
  },
  {
   "cell_type": "code",
   "execution_count": 4,
   "metadata": {},
   "outputs": [],
   "source": [
    "# import sys\n",
    "# !{sys.executable} -m pip install pycaret\n",
    "# %pip install -U rfpimp"
   ]
  },
  {
   "cell_type": "code",
   "execution_count": 5,
   "metadata": {
    "scrolled": true
   },
   "outputs": [
    {
     "data": {
      "text/plain": [
       "'Source: \\nhttps://stackoverflow.com/questions/61883115/how-to-install-pycaret-python-library-in-mac-mojave'"
      ]
     },
     "execution_count": 5,
     "metadata": {},
     "output_type": "execute_result"
    }
   ],
   "source": [
    "\"\"\"Source: \n",
    "https://stackoverflow.com/questions/61883115/how-to-install-pycaret-python-library-in-mac-mojave\"\"\"\n",
    "# !brew install cmake\n",
    "# !brew install libomp\n",
    "# git clone --recursive https://github.com/microsoft/LightGBM ; cd LightGBM\n",
    "# mkdir build ; cd build\n",
    "# cmake ..\n",
    "# make -j4\n",
    "\n",
    "# %pip install -U missingno statsmodels\n",
    "# !pip3 install pycaret\n",
    "# check version\n",
    "# %pip install pycaret\n",
    "# import pycaret\n",
    "# from pycaret.utils import version\n",
    "# version()"
   ]
  },
  {
   "cell_type": "code",
   "execution_count": 6,
   "metadata": {},
   "outputs": [
    {
     "name": "stdout",
     "output_type": "stream",
     "text": [
      "Loading data from portfolio.json...\n",
      "Loading data from profile.json...\n",
      "Loading data from transcript.json...\n",
      "CPU times: user 5.76 s, sys: 780 ms, total: 6.54 s\n",
      "Wall time: 6.14 s\n"
     ]
    }
   ],
   "source": [
    "%%time\n",
    "from plugins.plugin_utils import *\n",
    "import pandas as pd\n",
    "import numpy as np\n",
    "import math\n",
    "import json\n",
    "import seaborn as sns\n",
    "from IPython.core.magic import (Magics, magics_class, line_magic, cell_magic)\n",
    "from IPython import get_ipython\n",
    "from datetime import datetime\n",
    "from rfpimp import permutation_importances\n",
    "%matplotlib inline\n",
    "\n",
    "conn = prepare_connection(sqlite3.connect('starbucks.db', detect_types=sqlite3.PARSE_DECLTYPES))\n",
    "@magics_class\n",
    "class SqlMagic(Magics):\n",
    "\n",
    "    @cell_magic\n",
    "    def sql(self, line, cell):\n",
    "        return conn.execute(cell).fetchall()\n",
    "\n",
    "    @cell_magic\n",
    "    def to_df(self, line, cell):\n",
    "        return pd.read_sql(cell, conn)\n",
    "    \n",
    "get_ipython().register_magics(SqlMagic)    \n",
    "sql = lambda x: conn.execute(x).fetchall()\n",
    "to_df = lambda x: pd.read_sql(x, conn)\n",
    "conv_date = lambda a: datetime.strptime(str(int(a)), '%Y%m%d').strftime('%m/%d/%Y') if not np.isnan(a) else np.NaN\n",
    "\n",
    "# read in the json files\n",
    "def load_json_file_to_table(fname):\n",
    "    print(f'Loading data from {fname}...')\n",
    "    fname = fname.replace('.json','')\n",
    "    pd.read_json(f\"data/{fname}.json\", \n",
    "                 orient='records', \n",
    "                 lines=True\n",
    "                ).to_sql(\n",
    "                        fname,\n",
    "                        conn,\n",
    "                        index=False,\n",
    "                        if_exists='replace')\n",
    "    \n",
    "load_json_file_to_table('portfolio.json')\n",
    "load_json_file_to_table('profile.json')\n",
    "load_json_file_to_table('transcript.json')"
   ]
  },
  {
   "cell_type": "code",
   "execution_count": 7,
   "metadata": {},
   "outputs": [
    {
     "name": "stdout",
     "output_type": "stream",
     "text": [
      "CPU times: user 4 µs, sys: 1 µs, total: 5 µs\n",
      "Wall time: 6.91 µs\n"
     ]
    }
   ],
   "source": [
    "%%time\n",
    "def clean_transcripts():\n",
    "    offers = to_df(\n",
    "        \"\"\"select person,\n",
    "               event,\n",
    "               json_extract(value, '$.offer_id') offer_id,\n",
    "               json_extract(value, '$.reward')   reward,\n",
    "               time\n",
    "        from (\n",
    "                 select person, event, replace(value, 'offer id', 'offer_id') value, time\n",
    "                 from transcript\n",
    "                 where event like '%offer%'\n",
    "             );\"\"\")\n",
    "    offers = offers.join(pd.get_dummies(offers.event, prefix='event_'),\n",
    "                           how='outer').drop(columns=['event'])\n",
    "    transactions = to_df(\"\"\"select person, \n",
    "                               -- event, \n",
    "                               json_extract(value, '$.amount') amount, time\n",
    "                            from transcript\n",
    "                            where event not like '%offer%';\"\"\")\n",
    "\n",
    "    return offers, transactions\n",
    "\n",
    "def clean_profile():\n",
    "#     profile = df.copy()\n",
    "    profile = to_df('select * from profile')\n",
    "    profile.age = profile.age.astype(int)\n",
    "    \n",
    "    #CONVERT GENDER TO CATEGORY\n",
    "#     profile = pd.concat([profile, pd.get_dummies(profile.gender, prefix='gender_')]).drop(columns=['gender'])\n",
    "    profile.gender = profile.gender.astype('category')\n",
    "    \n",
    "    #CLEAN DATE FIELD\n",
    "    conv_date = lambda a: datetime.strptime(str(int(a)), '%Y%m%d').strftime('%m/%d/%Y') if not np.isnan(a) else np.NaN\n",
    "    profile.became_member_on = profile.became_member_on.apply(conv_date).astype('datetime64')\n",
    "    profile = profile[profile.age != 118]\n",
    "    \n",
    "    #BINNING AGE BRACKETS\n",
    "#     mapping = [profile['age'].between(0, 22), \n",
    "#                 profile['age'].between(23, 38),\n",
    "#                 profile['age'].between(39, 54),\n",
    "#                 profile['age'].between(55, 73),\n",
    "#                 profile['age'].between(74, 150),]\n",
    "#     vals = ['gen_z', 'millenial', 'gen_x', 'ok_boomer', 'silent_gen']\n",
    "#     profile['age_bracket'] = np.select(mapping, vals, 0)\n",
    "    \n",
    "    profile.income = profile.income.astype(int)\n",
    "    return profile\n",
    "\n",
    "def clean_portfolio():\n",
    "    portfolio = to_df('select * from portfolio')\n",
    "    portfolio.channels = portfolio.channels.apply(json.loads)\n",
    "    portfolio.channels = portfolio.channels.apply(lambda x: sorted(x))\n",
    "    'Example adapted from: https://stackoverflow.com/questions/29034928/pandas-convert-a-column-of-list-to-dummies'\n",
    "    _ = pd.get_dummies(portfolio.channels.apply(pd.Series).stack()).sum(level=0)\n",
    "    portfolio[list(_)] = _\n",
    "    portfolio = portfolio.drop(columns=['channels'])\n",
    "#     portfolio.offer_type = portfolio.offer_type.astype('category')\n",
    "    portfolio = portfolio.join(pd.get_dummies(portfolio.offer_type, prefix='offer_type_'),\n",
    "                           how='outer').drop(columns=['offer_type'])\n",
    "\n",
    "    return portfolio"
   ]
  },
  {
   "cell_type": "code",
   "execution_count": 8,
   "metadata": {},
   "outputs": [
    {
     "data": {
      "text/plain": [
       "1        (50, 60]\n",
       "3        (70, 80]\n",
       "5        (60, 70]\n",
       "8        (60, 70]\n",
       "12       (50, 60]\n",
       "           ...   \n",
       "16995    (40, 50]\n",
       "16996    (60, 70]\n",
       "16997    (40, 50]\n",
       "16998    (80, 90]\n",
       "16999    (60, 70]\n",
       "Name: age, Length: 14825, dtype: category\n",
       "Categories (9, interval[int64]): [(0, 10] < (10, 20] < (20, 30] < (30, 40] ... (50, 60] < (60, 70] < (70, 80] < (80, 90]]"
      ]
     },
     "execution_count": 8,
     "metadata": {},
     "output_type": "execute_result"
    }
   ],
   "source": [
    "profile = to_df('select * from profile')\n",
    "profile.age = profile.age.astype(int)\n",
    "\n",
    "#CONVERT GENDER TO CATEGORY\n",
    "#     profile = pd.concat([profile, pd.get_dummies(profile.gender, prefix='gender_')]).drop(columns=['gender'])\n",
    "profile.gender = profile.gender.astype('category')\n",
    "\n",
    "#CLEAN DATE FIELD\n",
    "conv_date = lambda a: datetime.strptime(str(int(a)), '%Y%m%d').strftime('%m/%d/%Y') if not np.isnan(a) else np.NaN\n",
    "profile.became_member_on = profile.became_member_on.apply(conv_date).astype('datetime64')\n",
    "profile = profile[profile.age != 118]\n",
    "pd.cut(profile.age, bins=[i for i in range(0, 100, 10)])"
   ]
  },
  {
   "cell_type": "code",
   "execution_count": 9,
   "metadata": {},
   "outputs": [],
   "source": [
    "# [i for i in range(0, 100, 10)]\n",
    "#     print(i)"
   ]
  },
  {
   "cell_type": "code",
   "execution_count": 10,
   "metadata": {},
   "outputs": [
    {
     "name": "stdout",
     "output_type": "stream",
     "text": [
      "CPU times: user 1.24 s, sys: 47.1 ms, total: 1.28 s\n",
      "Wall time: 1.29 s\n"
     ]
    }
   ],
   "source": [
    "%%time\n",
    "offers, transactions = clean_transcripts()\n",
    "portfolio = clean_portfolio()\n",
    "profile = clean_profile()"
   ]
  },
  {
   "cell_type": "code",
   "execution_count": 11,
   "metadata": {},
   "outputs": [
    {
     "name": "stdout",
     "output_type": "stream",
     "text": [
      "Offers:\n",
      "\n"
     ]
    },
    {
     "data": {
      "text/html": [
       "<div>\n",
       "<style scoped>\n",
       "    .dataframe tbody tr th:only-of-type {\n",
       "        vertical-align: middle;\n",
       "    }\n",
       "\n",
       "    .dataframe tbody tr th {\n",
       "        vertical-align: top;\n",
       "    }\n",
       "\n",
       "    .dataframe thead th {\n",
       "        text-align: right;\n",
       "    }\n",
       "</style>\n",
       "<table border=\"1\" class=\"dataframe\">\n",
       "  <thead>\n",
       "    <tr style=\"text-align: right;\">\n",
       "      <th></th>\n",
       "      <th>person</th>\n",
       "      <th>offer_id</th>\n",
       "      <th>reward</th>\n",
       "      <th>time</th>\n",
       "      <th>event__offer completed</th>\n",
       "      <th>event__offer received</th>\n",
       "      <th>event__offer viewed</th>\n",
       "    </tr>\n",
       "  </thead>\n",
       "  <tbody>\n",
       "    <tr>\n",
       "      <th>67394</th>\n",
       "      <td>58b8ef5107474c15ac723f0746037631</td>\n",
       "      <td>3f207df678b143eea3cee63160fa8bed</td>\n",
       "      <td>NaN</td>\n",
       "      <td>336</td>\n",
       "      <td>0</td>\n",
       "      <td>1</td>\n",
       "      <td>0</td>\n",
       "    </tr>\n",
       "    <tr>\n",
       "      <th>150662</th>\n",
       "      <td>e79c466771a942269ef56dcfbf50177a</td>\n",
       "      <td>0b1e1539f2cc45b7b9fa7c272da2e1d7</td>\n",
       "      <td>5.0</td>\n",
       "      <td>576</td>\n",
       "      <td>1</td>\n",
       "      <td>0</td>\n",
       "      <td>0</td>\n",
       "    </tr>\n",
       "    <tr>\n",
       "      <th>118280</th>\n",
       "      <td>a318d28d03ec4aa4957dda94215911a2</td>\n",
       "      <td>f19421c1d4aa40978ebb69ca19b0e20d</td>\n",
       "      <td>NaN</td>\n",
       "      <td>504</td>\n",
       "      <td>0</td>\n",
       "      <td>1</td>\n",
       "      <td>0</td>\n",
       "    </tr>\n",
       "    <tr>\n",
       "      <th>123964</th>\n",
       "      <td>a96c28c4640949ddb38db4c7498f337f</td>\n",
       "      <td>fafdcd668e3743c1bb461111dcafc2a4</td>\n",
       "      <td>NaN</td>\n",
       "      <td>504</td>\n",
       "      <td>0</td>\n",
       "      <td>0</td>\n",
       "      <td>1</td>\n",
       "    </tr>\n",
       "    <tr>\n",
       "      <th>28768</th>\n",
       "      <td>fda2862641d74e19ba0a249a0e3a83f3</td>\n",
       "      <td>fafdcd668e3743c1bb461111dcafc2a4</td>\n",
       "      <td>NaN</td>\n",
       "      <td>168</td>\n",
       "      <td>0</td>\n",
       "      <td>1</td>\n",
       "      <td>0</td>\n",
       "    </tr>\n",
       "  </tbody>\n",
       "</table>\n",
       "</div>"
      ],
      "text/plain": [
       "                                  person                          offer_id  \\\n",
       "67394   58b8ef5107474c15ac723f0746037631  3f207df678b143eea3cee63160fa8bed   \n",
       "150662  e79c466771a942269ef56dcfbf50177a  0b1e1539f2cc45b7b9fa7c272da2e1d7   \n",
       "118280  a318d28d03ec4aa4957dda94215911a2  f19421c1d4aa40978ebb69ca19b0e20d   \n",
       "123964  a96c28c4640949ddb38db4c7498f337f  fafdcd668e3743c1bb461111dcafc2a4   \n",
       "28768   fda2862641d74e19ba0a249a0e3a83f3  fafdcd668e3743c1bb461111dcafc2a4   \n",
       "\n",
       "        reward  time  event__offer completed  event__offer received  \\\n",
       "67394      NaN   336                       0                      1   \n",
       "150662     5.0   576                       1                      0   \n",
       "118280     NaN   504                       0                      1   \n",
       "123964     NaN   504                       0                      0   \n",
       "28768      NaN   168                       0                      1   \n",
       "\n",
       "        event__offer viewed  \n",
       "67394                     0  \n",
       "150662                    0  \n",
       "118280                    0  \n",
       "123964                    1  \n",
       "28768                     0  "
      ]
     },
     "metadata": {},
     "output_type": "display_data"
    },
    {
     "name": "stdout",
     "output_type": "stream",
     "text": [
      "Transactions:\n",
      "\n"
     ]
    },
    {
     "data": {
      "text/html": [
       "<div>\n",
       "<style scoped>\n",
       "    .dataframe tbody tr th:only-of-type {\n",
       "        vertical-align: middle;\n",
       "    }\n",
       "\n",
       "    .dataframe tbody tr th {\n",
       "        vertical-align: top;\n",
       "    }\n",
       "\n",
       "    .dataframe thead th {\n",
       "        text-align: right;\n",
       "    }\n",
       "</style>\n",
       "<table border=\"1\" class=\"dataframe\">\n",
       "  <thead>\n",
       "    <tr style=\"text-align: right;\">\n",
       "      <th></th>\n",
       "      <th>person</th>\n",
       "      <th>amount</th>\n",
       "      <th>time</th>\n",
       "    </tr>\n",
       "  </thead>\n",
       "  <tbody>\n",
       "    <tr>\n",
       "      <th>11345</th>\n",
       "      <td>f1e4fd36e5a0446f83861308bddf6945</td>\n",
       "      <td>11.28</td>\n",
       "      <td>66</td>\n",
       "    </tr>\n",
       "    <tr>\n",
       "      <th>91566</th>\n",
       "      <td>5aa466a27dfd48e78c95f6ba3ce5fd8e</td>\n",
       "      <td>2.96</td>\n",
       "      <td>498</td>\n",
       "    </tr>\n",
       "    <tr>\n",
       "      <th>14175</th>\n",
       "      <td>00857b24b13f4fe0ad17b605f00357f5</td>\n",
       "      <td>0.91</td>\n",
       "      <td>84</td>\n",
       "    </tr>\n",
       "    <tr>\n",
       "      <th>45195</th>\n",
       "      <td>4cc297817a5c412bbb5dfa98c4afd210</td>\n",
       "      <td>14.09</td>\n",
       "      <td>270</td>\n",
       "    </tr>\n",
       "    <tr>\n",
       "      <th>78247</th>\n",
       "      <td>227f7c7fcd3f445691431763078d39b1</td>\n",
       "      <td>15.10</td>\n",
       "      <td>438</td>\n",
       "    </tr>\n",
       "  </tbody>\n",
       "</table>\n",
       "</div>"
      ],
      "text/plain": [
       "                                 person  amount  time\n",
       "11345  f1e4fd36e5a0446f83861308bddf6945   11.28    66\n",
       "91566  5aa466a27dfd48e78c95f6ba3ce5fd8e    2.96   498\n",
       "14175  00857b24b13f4fe0ad17b605f00357f5    0.91    84\n",
       "45195  4cc297817a5c412bbb5dfa98c4afd210   14.09   270\n",
       "78247  227f7c7fcd3f445691431763078d39b1   15.10   438"
      ]
     },
     "metadata": {},
     "output_type": "display_data"
    },
    {
     "name": "stdout",
     "output_type": "stream",
     "text": [
      "Portfolio:\n",
      "\n"
     ]
    },
    {
     "data": {
      "text/html": [
       "<div>\n",
       "<style scoped>\n",
       "    .dataframe tbody tr th:only-of-type {\n",
       "        vertical-align: middle;\n",
       "    }\n",
       "\n",
       "    .dataframe tbody tr th {\n",
       "        vertical-align: top;\n",
       "    }\n",
       "\n",
       "    .dataframe thead th {\n",
       "        text-align: right;\n",
       "    }\n",
       "</style>\n",
       "<table border=\"1\" class=\"dataframe\">\n",
       "  <thead>\n",
       "    <tr style=\"text-align: right;\">\n",
       "      <th></th>\n",
       "      <th>reward</th>\n",
       "      <th>difficulty</th>\n",
       "      <th>duration</th>\n",
       "      <th>id</th>\n",
       "      <th>email</th>\n",
       "      <th>mobile</th>\n",
       "      <th>social</th>\n",
       "      <th>web</th>\n",
       "      <th>offer_type__bogo</th>\n",
       "      <th>offer_type__discount</th>\n",
       "      <th>offer_type__informational</th>\n",
       "    </tr>\n",
       "  </thead>\n",
       "  <tbody>\n",
       "    <tr>\n",
       "      <th>2</th>\n",
       "      <td>0</td>\n",
       "      <td>0</td>\n",
       "      <td>4</td>\n",
       "      <td>3f207df678b143eea3cee63160fa8bed</td>\n",
       "      <td>1</td>\n",
       "      <td>1</td>\n",
       "      <td>0</td>\n",
       "      <td>1</td>\n",
       "      <td>0</td>\n",
       "      <td>0</td>\n",
       "      <td>1</td>\n",
       "    </tr>\n",
       "    <tr>\n",
       "      <th>0</th>\n",
       "      <td>10</td>\n",
       "      <td>10</td>\n",
       "      <td>7</td>\n",
       "      <td>ae264e3637204a6fb9bb56bc8210ddfd</td>\n",
       "      <td>1</td>\n",
       "      <td>1</td>\n",
       "      <td>1</td>\n",
       "      <td>0</td>\n",
       "      <td>1</td>\n",
       "      <td>0</td>\n",
       "      <td>0</td>\n",
       "    </tr>\n",
       "    <tr>\n",
       "      <th>6</th>\n",
       "      <td>2</td>\n",
       "      <td>10</td>\n",
       "      <td>10</td>\n",
       "      <td>fafdcd668e3743c1bb461111dcafc2a4</td>\n",
       "      <td>1</td>\n",
       "      <td>1</td>\n",
       "      <td>1</td>\n",
       "      <td>1</td>\n",
       "      <td>0</td>\n",
       "      <td>1</td>\n",
       "      <td>0</td>\n",
       "    </tr>\n",
       "    <tr>\n",
       "      <th>8</th>\n",
       "      <td>5</td>\n",
       "      <td>5</td>\n",
       "      <td>5</td>\n",
       "      <td>f19421c1d4aa40978ebb69ca19b0e20d</td>\n",
       "      <td>1</td>\n",
       "      <td>1</td>\n",
       "      <td>1</td>\n",
       "      <td>1</td>\n",
       "      <td>1</td>\n",
       "      <td>0</td>\n",
       "      <td>0</td>\n",
       "    </tr>\n",
       "    <tr>\n",
       "      <th>7</th>\n",
       "      <td>0</td>\n",
       "      <td>0</td>\n",
       "      <td>3</td>\n",
       "      <td>5a8bc65990b245e5a138643cd4eb9837</td>\n",
       "      <td>1</td>\n",
       "      <td>1</td>\n",
       "      <td>1</td>\n",
       "      <td>0</td>\n",
       "      <td>0</td>\n",
       "      <td>0</td>\n",
       "      <td>1</td>\n",
       "    </tr>\n",
       "  </tbody>\n",
       "</table>\n",
       "</div>"
      ],
      "text/plain": [
       "   reward  difficulty  duration                                id  email  \\\n",
       "2       0           0         4  3f207df678b143eea3cee63160fa8bed      1   \n",
       "0      10          10         7  ae264e3637204a6fb9bb56bc8210ddfd      1   \n",
       "6       2          10        10  fafdcd668e3743c1bb461111dcafc2a4      1   \n",
       "8       5           5         5  f19421c1d4aa40978ebb69ca19b0e20d      1   \n",
       "7       0           0         3  5a8bc65990b245e5a138643cd4eb9837      1   \n",
       "\n",
       "   mobile  social  web  offer_type__bogo  offer_type__discount  \\\n",
       "2       1       0    1                 0                     0   \n",
       "0       1       1    0                 1                     0   \n",
       "6       1       1    1                 0                     1   \n",
       "8       1       1    1                 1                     0   \n",
       "7       1       1    0                 0                     0   \n",
       "\n",
       "   offer_type__informational  \n",
       "2                          1  \n",
       "0                          0  \n",
       "6                          0  \n",
       "8                          0  \n",
       "7                          1  "
      ]
     },
     "metadata": {},
     "output_type": "display_data"
    },
    {
     "name": "stdout",
     "output_type": "stream",
     "text": [
      "Profile:\n",
      "\n"
     ]
    },
    {
     "data": {
      "text/html": [
       "<div>\n",
       "<style scoped>\n",
       "    .dataframe tbody tr th:only-of-type {\n",
       "        vertical-align: middle;\n",
       "    }\n",
       "\n",
       "    .dataframe tbody tr th {\n",
       "        vertical-align: top;\n",
       "    }\n",
       "\n",
       "    .dataframe thead th {\n",
       "        text-align: right;\n",
       "    }\n",
       "</style>\n",
       "<table border=\"1\" class=\"dataframe\">\n",
       "  <thead>\n",
       "    <tr style=\"text-align: right;\">\n",
       "      <th></th>\n",
       "      <th>gender</th>\n",
       "      <th>age</th>\n",
       "      <th>id</th>\n",
       "      <th>became_member_on</th>\n",
       "      <th>income</th>\n",
       "    </tr>\n",
       "  </thead>\n",
       "  <tbody>\n",
       "    <tr>\n",
       "      <th>3034</th>\n",
       "      <td>F</td>\n",
       "      <td>58</td>\n",
       "      <td>c9e69ffd85e7421aa53b8cb7bafba100</td>\n",
       "      <td>2016-08-24</td>\n",
       "      <td>77000</td>\n",
       "    </tr>\n",
       "    <tr>\n",
       "      <th>11264</th>\n",
       "      <td>F</td>\n",
       "      <td>57</td>\n",
       "      <td>17688188fc61487d98f1cafdaa32c08b</td>\n",
       "      <td>2017-03-13</td>\n",
       "      <td>57000</td>\n",
       "    </tr>\n",
       "    <tr>\n",
       "      <th>5741</th>\n",
       "      <td>F</td>\n",
       "      <td>57</td>\n",
       "      <td>04f1f44632cd409cace939fa62b5fc7a</td>\n",
       "      <td>2016-08-26</td>\n",
       "      <td>73000</td>\n",
       "    </tr>\n",
       "    <tr>\n",
       "      <th>3662</th>\n",
       "      <td>F</td>\n",
       "      <td>20</td>\n",
       "      <td>c89fa9af11d74b4d8cee355d0871bd97</td>\n",
       "      <td>2016-01-11</td>\n",
       "      <td>54000</td>\n",
       "    </tr>\n",
       "    <tr>\n",
       "      <th>9341</th>\n",
       "      <td>M</td>\n",
       "      <td>51</td>\n",
       "      <td>3e7cfcff56634b7fb78b7eea015040f3</td>\n",
       "      <td>2017-10-21</td>\n",
       "      <td>69000</td>\n",
       "    </tr>\n",
       "  </tbody>\n",
       "</table>\n",
       "</div>"
      ],
      "text/plain": [
       "      gender  age                                id became_member_on  income\n",
       "3034       F   58  c9e69ffd85e7421aa53b8cb7bafba100       2016-08-24   77000\n",
       "11264      F   57  17688188fc61487d98f1cafdaa32c08b       2017-03-13   57000\n",
       "5741       F   57  04f1f44632cd409cace939fa62b5fc7a       2016-08-26   73000\n",
       "3662       F   20  c89fa9af11d74b4d8cee355d0871bd97       2016-01-11   54000\n",
       "9341       M   51  3e7cfcff56634b7fb78b7eea015040f3       2017-10-21   69000"
      ]
     },
     "metadata": {},
     "output_type": "display_data"
    }
   ],
   "source": [
    "\"\"\"TODO:\n",
    "- (Optional) - Add exploratory visualizations. Distributions, correlation matrix to check for colinearity, scatterplot etc..\n",
    "- Change age bracket to bins and use get_dummies\n",
    "- Remove duplicate ID columns and drop / fix NaNs\n",
    "- Change reward to binary?? (look to see if Reward only goes with one type of offer)\n",
    "- Input / Normalize / standarize numeric features\n",
    "- Join all the datasets\"\"\"\n",
    "print('Offers:\\n'); display(offers.sample(5))\n",
    "print('Transactions:\\n'); display(transactions.sample(5))\n",
    "print('Portfolio:\\n'); display(portfolio.sample(5))\n",
    "print('Profile:\\n'); display(profile.sample(5))"
   ]
  },
  {
   "cell_type": "code",
   "execution_count": 12,
   "metadata": {},
   "outputs": [
    {
     "data": {
      "text/plain": [
       "<matplotlib.axes._subplots.AxesSubplot at 0x7fe3cb265b50>"
      ]
     },
     "execution_count": 12,
     "metadata": {},
     "output_type": "execute_result"
    },
    {
     "data": {
      "image/png": "[encoded data removed]",
      "text/plain": [
       "<Figure size 432x288 with 1 Axes>"
      ]
     },
     "metadata": {
      "needs_background": "light"
     },
     "output_type": "display_data"
    }
   ],
   "source": [
    "profile.groupby(profile.became_member_on.dt.year).count()['age'].plot()"
   ]
  },
  {
   "cell_type": "code",
   "execution_count": 13,
   "metadata": {},
   "outputs": [
    {
     "name": "stdout",
     "output_type": "stream",
     "text": [
      "Total rows: 14825 167581 138953\n",
      "\n",
      "************************************************************\n",
      "Offers % NULLs:\n",
      "************************************************************\n",
      "person                    0.000000\n",
      "offer_id                  0.000000\n",
      "reward                    0.799625\n",
      "time                      0.000000\n",
      "event__offer completed    0.000000\n",
      "event__offer received     0.000000\n",
      "event__offer viewed       0.000000\n",
      "dtype: float64\n",
      "\n",
      "************************************************************\n",
      "Transactions % NULLs:\n",
      "************************************************************\n",
      "person    0.0\n",
      "amount    0.0\n",
      "time      0.0\n",
      "dtype: float64\n",
      "\n",
      "************************************************************\n",
      "Profile % NULLs:\n",
      "************************************************************\n",
      "gender              0.0\n",
      "age                 0.0\n",
      "id                  0.0\n",
      "became_member_on    0.0\n",
      "income              0.0\n",
      "dtype: float64\n"
     ]
    }
   ],
   "source": [
    "# for c in list(transcript):\n",
    "#     print(transcript.isnull().sum())\n",
    "print('Total rows:', len(profile), len(offers), len(transactions))\n",
    "sep = '\\n'+'*'*60 + '\\n'\n",
    "# print(f'{sep}Transcript % NULLs:{sep}{transcript.isnull().sum()/len(transcript)}')\n",
    "print(f'{sep}Offers % NULLs:{sep}{offers.isnull().sum()/len(offers)}')\n",
    "print(f'{sep}Transactions % NULLs:{sep}{transactions.isnull().sum()/len(transactions)}')\n",
    "print(f'{sep}Profile % NULLs:{sep}{profile.isnull().sum()/len(profile)}')\n",
    "# print(f'{sep}Portfolio % NULLs:{sep}{portfolio.isnull().sum()/len(portfolio)}')"
   ]
  },
  {
   "cell_type": "code",
   "execution_count": 14,
   "metadata": {},
   "outputs": [
    {
     "name": "stderr",
     "output_type": "stream",
     "text": [
      "/Library/Frameworks/Python.framework/Versions/3.8/lib/python3.8/site-packages/pandas/core/generic.py:2653: UserWarning: The spaces in these column names will not be changed. In pandas versions < 0.14, spaces were converted to underscores.\n",
      "  sql.to_sql(\n"
     ]
    }
   ],
   "source": [
    "transactions.to_sql('transactions_cleaned', conn, index=False, if_exists='replace') \n",
    "offers.drop(columns=['reward']).to_sql('offers_cleaned', conn, index=False, if_exists='replace') \n",
    "portfolio.to_sql('portfolio_cleaned', conn, index=False, if_exists='replace') \n",
    "profile.to_sql('profile_cleaned', conn, index=False, if_exists='replace') \n"
   ]
  },
  {
   "cell_type": "code",
   "execution_count": 15,
   "metadata": {},
   "outputs": [
    {
     "data": {
      "text/plain": [
       "[]"
      ]
     },
     "execution_count": 15,
     "metadata": {},
     "output_type": "execute_result"
    }
   ],
   "source": [
    "%%sql\n",
    "create index if not exists offers_offer_id_idx on offers(offer_id);"
   ]
  },
  {
   "cell_type": "code",
   "execution_count": 16,
   "metadata": {},
   "outputs": [],
   "source": [
    "joined = to_df(\"\"\"select * from v_joined\"\"\")"
   ]
  },
  {
   "cell_type": "code",
   "execution_count": 17,
   "metadata": {},
   "outputs": [
    {
     "name": "stdout",
     "output_type": "stream",
     "text": [
      "Total: 167581\n",
      "\n",
      "************************************************************\n",
      "Joined % NULLs:\n",
      "************************************************************\n",
      "offer_person_id              0.000000\n",
      "offer_id                     0.000000\n",
      "profile_person_id            0.000000\n",
      "portfolio_id                 0.000000\n",
      "time                         0.000000\n",
      "event__offer completed       0.000000\n",
      "event__offer received        0.000000\n",
      "event__offer viewed          0.000000\n",
      "gender                       0.112041\n",
      "age                          0.000000\n",
      "became_member_on             0.000000\n",
      "income                       0.112041\n",
      "reward                       0.000000\n",
      "difficulty                   0.000000\n",
      "duration                     0.000000\n",
      "email                        0.000000\n",
      "mobile                       0.000000\n",
      "social                       0.000000\n",
      "web                          0.000000\n",
      "offer_type__bogo             0.000000\n",
      "offer_type__discount         0.000000\n",
      "offer_type__informational    0.000000\n",
      "transaction_amount           0.000000\n",
      "dtype: float64\n"
     ]
    }
   ],
   "source": [
    "print('Total:', len(joined))\n",
    "print(f'{sep}Joined % NULLs:{sep}{joined.isnull().sum()/len(joined)}')\n",
    "'''Dropping since theres less than 20% of rows with missing records'''\n",
    "joined = joined.dropna()"
   ]
  },
  {
   "cell_type": "code",
   "execution_count": 18,
   "metadata": {},
   "outputs": [
    {
     "name": "stdout",
     "output_type": "stream",
     "text": [
      "\n",
      "************************************************************\n",
      "Correlations:\n",
      "************************************************************\n",
      "\n"
     ]
    },
    {
     "data": {
      "text/html": [
       "<div>\n",
       "<style scoped>\n",
       "    .dataframe tbody tr th:only-of-type {\n",
       "        vertical-align: middle;\n",
       "    }\n",
       "\n",
       "    .dataframe tbody tr th {\n",
       "        vertical-align: top;\n",
       "    }\n",
       "\n",
       "    .dataframe thead th {\n",
       "        text-align: right;\n",
       "    }\n",
       "</style>\n",
       "<table border=\"1\" class=\"dataframe\">\n",
       "  <thead>\n",
       "    <tr style=\"text-align: right;\">\n",
       "      <th></th>\n",
       "      <th>ROW</th>\n",
       "      <th>COL</th>\n",
       "      <th>CORRELATION</th>\n",
       "    </tr>\n",
       "  </thead>\n",
       "  <tbody>\n",
       "    <tr>\n",
       "      <th>0</th>\n",
       "      <td>Offer_type__bogo</td>\n",
       "      <td>Reward</td>\n",
       "      <td>0.797030</td>\n",
       "    </tr>\n",
       "    <tr>\n",
       "      <th>1</th>\n",
       "      <td>Difficulty</td>\n",
       "      <td>Duration</td>\n",
       "      <td>0.766816</td>\n",
       "    </tr>\n",
       "    <tr>\n",
       "      <th>2</th>\n",
       "      <td>Difficulty</td>\n",
       "      <td>Offer_type__discount</td>\n",
       "      <td>0.542964</td>\n",
       "    </tr>\n",
       "    <tr>\n",
       "      <th>4</th>\n",
       "      <td>Duration</td>\n",
       "      <td>Offer_type__discount</td>\n",
       "      <td>0.731328</td>\n",
       "    </tr>\n",
       "  </tbody>\n",
       "</table>\n",
       "</div>"
      ],
      "text/plain": [
       "                ROW                   COL  CORRELATION\n",
       "0  Offer_type__bogo                Reward     0.797030\n",
       "1        Difficulty              Duration     0.766816\n",
       "2        Difficulty  Offer_type__discount     0.542964\n",
       "4          Duration  Offer_type__discount     0.731328"
      ]
     },
     "execution_count": 18,
     "metadata": {},
     "output_type": "execute_result"
    }
   ],
   "source": [
    "# print(\"{}\\n{: >30}{: >30}{: >30}\\n{}\".format(\"=\"*100,'|ROW|', '|COLUMN|', '|CORRELATION|',\"=\"*100))\n",
    "# for k,v in joined.corr().items():\n",
    "#     for c in list(v.index):\n",
    "#         if not k == c and v[c] > .5:\n",
    "#             print(\"{: >30}{: >30}{: >30}\".format(k.capitalize(), c.capitalize(), v[c]))\n",
    "\n",
    "print(f'{sep}Correlations:{sep}')\n",
    "pd.DataFrame([(*sorted([k.capitalize(), c.capitalize()]), v[c])\n",
    "                     for k,v in joined.corr().items() \n",
    "                     for c in list(v.index)\n",
    "        if not k == c and v[c] > .5],\n",
    "            columns=['ROW','COL','CORRELATION']\n",
    "            ).drop_duplicates()\n",
    "# for c in joined.columns:\n",
    "#     if c not in ['event__offer completed']:\n",
    "#         print(c)\n",
    "#         display(joined[c])\n",
    "#         joined['event__offer completed'].corr(joined[c])"
   ]
  },
  {
   "cell_type": "code",
   "execution_count": 19,
   "metadata": {},
   "outputs": [
    {
     "name": "stdout",
     "output_type": "stream",
     "text": [
      "CPU times: user 5.82 s, sys: 26.5 ms, total: 5.85 s\n",
      "Wall time: 5.86 s\n"
     ]
    }
   ],
   "source": [
    "%%time\n",
    "joined.became_member_on = joined.became_member_on.apply(conv_date).astype('datetime64')\n",
    "joined['days_as_customer'] = joined.became_member_on.apply(lambda x: pd.Timestamp.now() - pd.to_datetime(x)).dt.days\n",
    "joined['became_member_dayofweek'] = joined.became_member_on.dt.dayofweek\n",
    "joined['became_member_month'] = joined.became_member_on.dt.month\n",
    "joined['became_member_year'] =  joined.became_member_on.dt.year\n",
    "joined = joined.drop(columns=['became_member_on', 'time', 'reward'])"
   ]
  },
  {
   "cell_type": "code",
   "execution_count": 20,
   "metadata": {},
   "outputs": [
    {
     "data": {
      "text/html": [
       "<div>\n",
       "<style scoped>\n",
       "    .dataframe tbody tr th:only-of-type {\n",
       "        vertical-align: middle;\n",
       "    }\n",
       "\n",
       "    .dataframe tbody tr th {\n",
       "        vertical-align: top;\n",
       "    }\n",
       "\n",
       "    .dataframe thead th {\n",
       "        text-align: right;\n",
       "    }\n",
       "</style>\n",
       "<table border=\"1\" class=\"dataframe\">\n",
       "  <thead>\n",
       "    <tr style=\"text-align: right;\">\n",
       "      <th></th>\n",
       "      <th>offer_person_id</th>\n",
       "      <th>offer_id</th>\n",
       "      <th>profile_person_id</th>\n",
       "      <th>portfolio_id</th>\n",
       "      <th>event__offer completed</th>\n",
       "      <th>event__offer received</th>\n",
       "      <th>event__offer viewed</th>\n",
       "      <th>gender</th>\n",
       "      <th>age</th>\n",
       "      <th>income</th>\n",
       "      <th>...</th>\n",
       "      <th>social</th>\n",
       "      <th>web</th>\n",
       "      <th>offer_type__bogo</th>\n",
       "      <th>offer_type__discount</th>\n",
       "      <th>offer_type__informational</th>\n",
       "      <th>transaction_amount</th>\n",
       "      <th>days_as_customer</th>\n",
       "      <th>became_member_dayofweek</th>\n",
       "      <th>became_member_month</th>\n",
       "      <th>became_member_year</th>\n",
       "    </tr>\n",
       "  </thead>\n",
       "  <tbody>\n",
       "    <tr>\n",
       "      <th>20309</th>\n",
       "      <td>e6fc7edd5ee748609bf5842a08af5734</td>\n",
       "      <td>fafdcd668e3743c1bb461111dcafc2a4</td>\n",
       "      <td>e6fc7edd5ee748609bf5842a08af5734</td>\n",
       "      <td>fafdcd668e3743c1bb461111dcafc2a4</td>\n",
       "      <td>1</td>\n",
       "      <td>0</td>\n",
       "      <td>0</td>\n",
       "      <td>F</td>\n",
       "      <td>74</td>\n",
       "      <td>104000.0</td>\n",
       "      <td>...</td>\n",
       "      <td>1</td>\n",
       "      <td>1</td>\n",
       "      <td>0</td>\n",
       "      <td>1</td>\n",
       "      <td>0</td>\n",
       "      <td>27.61</td>\n",
       "      <td>1066</td>\n",
       "      <td>5</td>\n",
       "      <td>1</td>\n",
       "      <td>2018</td>\n",
       "    </tr>\n",
       "    <tr>\n",
       "      <th>7766</th>\n",
       "      <td>41b41a91a8c54404950837d458c3a41a</td>\n",
       "      <td>4d5c57ea9a6940dd891ad53e9dbe8da0</td>\n",
       "      <td>41b41a91a8c54404950837d458c3a41a</td>\n",
       "      <td>4d5c57ea9a6940dd891ad53e9dbe8da0</td>\n",
       "      <td>0</td>\n",
       "      <td>1</td>\n",
       "      <td>0</td>\n",
       "      <td>M</td>\n",
       "      <td>62</td>\n",
       "      <td>48000.0</td>\n",
       "      <td>...</td>\n",
       "      <td>1</td>\n",
       "      <td>1</td>\n",
       "      <td>1</td>\n",
       "      <td>0</td>\n",
       "      <td>0</td>\n",
       "      <td>15.05</td>\n",
       "      <td>1281</td>\n",
       "      <td>0</td>\n",
       "      <td>6</td>\n",
       "      <td>2017</td>\n",
       "    </tr>\n",
       "    <tr>\n",
       "      <th>44582</th>\n",
       "      <td>ba4fff69b9224b87a1916f9fd9d0c2c8</td>\n",
       "      <td>fafdcd668e3743c1bb461111dcafc2a4</td>\n",
       "      <td>ba4fff69b9224b87a1916f9fd9d0c2c8</td>\n",
       "      <td>fafdcd668e3743c1bb461111dcafc2a4</td>\n",
       "      <td>0</td>\n",
       "      <td>0</td>\n",
       "      <td>1</td>\n",
       "      <td>F</td>\n",
       "      <td>75</td>\n",
       "      <td>109000.0</td>\n",
       "      <td>...</td>\n",
       "      <td>1</td>\n",
       "      <td>1</td>\n",
       "      <td>0</td>\n",
       "      <td>1</td>\n",
       "      <td>0</td>\n",
       "      <td>22.45</td>\n",
       "      <td>1317</td>\n",
       "      <td>6</td>\n",
       "      <td>5</td>\n",
       "      <td>2017</td>\n",
       "    </tr>\n",
       "    <tr>\n",
       "      <th>123394</th>\n",
       "      <td>9388ac636ddd48579dc16f4faef47e73</td>\n",
       "      <td>f19421c1d4aa40978ebb69ca19b0e20d</td>\n",
       "      <td>9388ac636ddd48579dc16f4faef47e73</td>\n",
       "      <td>f19421c1d4aa40978ebb69ca19b0e20d</td>\n",
       "      <td>0</td>\n",
       "      <td>0</td>\n",
       "      <td>1</td>\n",
       "      <td>M</td>\n",
       "      <td>72</td>\n",
       "      <td>83000.0</td>\n",
       "      <td>...</td>\n",
       "      <td>1</td>\n",
       "      <td>1</td>\n",
       "      <td>1</td>\n",
       "      <td>0</td>\n",
       "      <td>0</td>\n",
       "      <td>14.44</td>\n",
       "      <td>1139</td>\n",
       "      <td>2</td>\n",
       "      <td>11</td>\n",
       "      <td>2017</td>\n",
       "    </tr>\n",
       "    <tr>\n",
       "      <th>81527</th>\n",
       "      <td>f67c8120151b4800b01a13f33d284ed0</td>\n",
       "      <td>2298d6c36e964ae4a3e7e9706d1fb8c2</td>\n",
       "      <td>f67c8120151b4800b01a13f33d284ed0</td>\n",
       "      <td>2298d6c36e964ae4a3e7e9706d1fb8c2</td>\n",
       "      <td>0</td>\n",
       "      <td>1</td>\n",
       "      <td>0</td>\n",
       "      <td>M</td>\n",
       "      <td>40</td>\n",
       "      <td>91000.0</td>\n",
       "      <td>...</td>\n",
       "      <td>1</td>\n",
       "      <td>1</td>\n",
       "      <td>0</td>\n",
       "      <td>1</td>\n",
       "      <td>0</td>\n",
       "      <td>21.59</td>\n",
       "      <td>1491</td>\n",
       "      <td>0</td>\n",
       "      <td>11</td>\n",
       "      <td>2016</td>\n",
       "    </tr>\n",
       "  </tbody>\n",
       "</table>\n",
       "<p>5 rows × 24 columns</p>\n",
       "</div>"
      ],
      "text/plain": [
       "                         offer_person_id                          offer_id  \\\n",
       "20309   e6fc7edd5ee748609bf5842a08af5734  fafdcd668e3743c1bb461111dcafc2a4   \n",
       "7766    41b41a91a8c54404950837d458c3a41a  4d5c57ea9a6940dd891ad53e9dbe8da0   \n",
       "44582   ba4fff69b9224b87a1916f9fd9d0c2c8  fafdcd668e3743c1bb461111dcafc2a4   \n",
       "123394  9388ac636ddd48579dc16f4faef47e73  f19421c1d4aa40978ebb69ca19b0e20d   \n",
       "81527   f67c8120151b4800b01a13f33d284ed0  2298d6c36e964ae4a3e7e9706d1fb8c2   \n",
       "\n",
       "                       profile_person_id                      portfolio_id  \\\n",
       "20309   e6fc7edd5ee748609bf5842a08af5734  fafdcd668e3743c1bb461111dcafc2a4   \n",
       "7766    41b41a91a8c54404950837d458c3a41a  4d5c57ea9a6940dd891ad53e9dbe8da0   \n",
       "44582   ba4fff69b9224b87a1916f9fd9d0c2c8  fafdcd668e3743c1bb461111dcafc2a4   \n",
       "123394  9388ac636ddd48579dc16f4faef47e73  f19421c1d4aa40978ebb69ca19b0e20d   \n",
       "81527   f67c8120151b4800b01a13f33d284ed0  2298d6c36e964ae4a3e7e9706d1fb8c2   \n",
       "\n",
       "        event__offer completed  event__offer received  event__offer viewed  \\\n",
       "20309                        1                      0                    0   \n",
       "7766                         0                      1                    0   \n",
       "44582                        0                      0                    1   \n",
       "123394                       0                      0                    1   \n",
       "81527                        0                      1                    0   \n",
       "\n",
       "       gender  age    income  ...  social  web  offer_type__bogo  \\\n",
       "20309       F   74  104000.0  ...       1    1                 0   \n",
       "7766        M   62   48000.0  ...       1    1                 1   \n",
       "44582       F   75  109000.0  ...       1    1                 0   \n",
       "123394      M   72   83000.0  ...       1    1                 1   \n",
       "81527       M   40   91000.0  ...       1    1                 0   \n",
       "\n",
       "        offer_type__discount  offer_type__informational  transaction_amount  \\\n",
       "20309                      1                          0               27.61   \n",
       "7766                       0                          0               15.05   \n",
       "44582                      1                          0               22.45   \n",
       "123394                     0                          0               14.44   \n",
       "81527                      1                          0               21.59   \n",
       "\n",
       "        days_as_customer  became_member_dayofweek  became_member_month  \\\n",
       "20309               1066                        5                    1   \n",
       "7766                1281                        0                    6   \n",
       "44582               1317                        6                    5   \n",
       "123394              1139                        2                   11   \n",
       "81527               1491                        0                   11   \n",
       "\n",
       "        became_member_year  \n",
       "20309                 2018  \n",
       "7766                  2017  \n",
       "44582                 2017  \n",
       "123394                2017  \n",
       "81527                 2016  \n",
       "\n",
       "[5 rows x 24 columns]"
      ]
     },
     "execution_count": 20,
     "metadata": {},
     "output_type": "execute_result"
    }
   ],
   "source": [
    "joined.sample(5)"
   ]
  },
  {
   "cell_type": "code",
   "execution_count": 21,
   "metadata": {},
   "outputs": [],
   "source": [
    "# key_df = joined[['person', 'offer_id','id']] \n",
    "# features = joined[[i for i in list(joined) if i not in list(key_df)]]"
   ]
  },
  {
   "cell_type": "code",
   "execution_count": 22,
   "metadata": {},
   "outputs": [
    {
     "name": "stdout",
     "output_type": "stream",
     "text": [
      "INCOME:\n"
     ]
    },
    {
     "data": {
      "text/plain": [
       "<matplotlib.axes._subplots.AxesSubplot at 0x7fe405e46430>"
      ]
     },
     "execution_count": 22,
     "metadata": {},
     "output_type": "execute_result"
    },
    {
     "data": {
      "image/png": "[encoded data removed]",
      "text/plain": [
       "<Figure size 432x288 with 1 Axes>"
      ]
     },
     "metadata": {
      "needs_background": "light"
     },
     "output_type": "display_data"
    }
   ],
   "source": [
    "print('INCOME:')\n",
    "joined.income.plot.kde()"
   ]
  },
  {
   "cell_type": "code",
   "execution_count": 23,
   "metadata": {},
   "outputs": [
    {
     "name": "stdout",
     "output_type": "stream",
     "text": [
      "AGE:\n"
     ]
    },
    {
     "data": {
      "text/plain": [
       "<matplotlib.axes._subplots.AxesSubplot at 0x7fe3cc62caf0>"
      ]
     },
     "execution_count": 23,
     "metadata": {},
     "output_type": "execute_result"
    },
    {
     "data": {
      "image/png": "[encoded data removed]",
      "text/plain": [
       "<Figure size 432x288 with 1 Axes>"
      ]
     },
     "metadata": {
      "needs_background": "light"
     },
     "output_type": "display_data"
    }
   ],
   "source": [
    "print('AGE:')\n",
    "joined.age.plot.kde()"
   ]
  },
  {
   "cell_type": "code",
   "execution_count": 24,
   "metadata": {},
   "outputs": [
    {
     "name": "stdout",
     "output_type": "stream",
     "text": [
      "DAYS AS CUSTOMER:\n"
     ]
    },
    {
     "data": {
      "text/plain": [
       "<matplotlib.axes._subplots.AxesSubplot at 0x7fe3cc8fe3d0>"
      ]
     },
     "execution_count": 24,
     "metadata": {},
     "output_type": "execute_result"
    },
    {
     "data": {
      "image/png": "[encoded data removed]",
      "text/plain": [
       "<Figure size 432x288 with 1 Axes>"
      ]
     },
     "metadata": {
      "needs_background": "light"
     },
     "output_type": "display_data"
    }
   ],
   "source": [
    "print('DAYS AS CUSTOMER:')\n",
    "joined.days_as_customer.plot.kde()"
   ]
  },
  {
   "cell_type": "code",
   "execution_count": 25,
   "metadata": {},
   "outputs": [
    {
     "name": "stdout",
     "output_type": "stream",
     "text": [
      "GENDER\n"
     ]
    },
    {
     "data": {
      "text/plain": [
       "<matplotlib.axes._subplots.AxesSubplot at 0x7fe3ced80220>"
      ]
     },
     "execution_count": 25,
     "metadata": {},
     "output_type": "execute_result"
    },
    {
     "data": {
      "image/png": "[encoded data removed]",
      "text/plain": [
       "<Figure size 432x288 with 1 Axes>"
      ]
     },
     "metadata": {
      "needs_background": "light"
     },
     "output_type": "display_data"
    }
   ],
   "source": [
    "print('GENDER')\n",
    "joined.gender.hist()"
   ]
  },
  {
   "cell_type": "code",
   "execution_count": 26,
   "metadata": {},
   "outputs": [
    {
     "data": {
      "text/plain": [
       "offer_person_id               object\n",
       "offer_id                      object\n",
       "profile_person_id             object\n",
       "portfolio_id                  object\n",
       "event__offer completed         int64\n",
       "event__offer received          int64\n",
       "event__offer viewed            int64\n",
       "gender                        object\n",
       "age                            int64\n",
       "income                       float64\n",
       "difficulty                     int64\n",
       "duration                       int64\n",
       "email                          int64\n",
       "mobile                         int64\n",
       "social                         int64\n",
       "web                            int64\n",
       "offer_type__bogo               int64\n",
       "offer_type__discount           int64\n",
       "offer_type__informational      int64\n",
       "transaction_amount           float64\n",
       "days_as_customer               int64\n",
       "became_member_dayofweek        int64\n",
       "became_member_month            int64\n",
       "became_member_year             int64\n",
       "dtype: object"
      ]
     },
     "execution_count": 26,
     "metadata": {},
     "output_type": "execute_result"
    }
   ],
   "source": [
    "joined.dtypes"
   ]
  },
  {
   "cell_type": "code",
   "execution_count": 27,
   "metadata": {},
   "outputs": [
    {
     "data": {
      "text/html": [
       "<div>\n",
       "<style scoped>\n",
       "    .dataframe tbody tr th:only-of-type {\n",
       "        vertical-align: middle;\n",
       "    }\n",
       "\n",
       "    .dataframe tbody tr th {\n",
       "        vertical-align: top;\n",
       "    }\n",
       "\n",
       "    .dataframe thead th {\n",
       "        text-align: right;\n",
       "    }\n",
       "</style>\n",
       "<table border=\"1\" class=\"dataframe\">\n",
       "  <thead>\n",
       "    <tr style=\"text-align: right;\">\n",
       "      <th></th>\n",
       "      <th>event__offer completed</th>\n",
       "      <th>event__offer received</th>\n",
       "      <th>event__offer viewed</th>\n",
       "      <th>gender</th>\n",
       "      <th>age</th>\n",
       "      <th>income</th>\n",
       "      <th>difficulty</th>\n",
       "      <th>duration</th>\n",
       "      <th>email</th>\n",
       "      <th>mobile</th>\n",
       "      <th>social</th>\n",
       "      <th>web</th>\n",
       "      <th>offer_type__bogo</th>\n",
       "      <th>offer_type__discount</th>\n",
       "      <th>offer_type__informational</th>\n",
       "      <th>transaction_amount</th>\n",
       "      <th>days_as_customer</th>\n",
       "      <th>became_member_dayofweek</th>\n",
       "      <th>became_member_month</th>\n",
       "      <th>became_member_year</th>\n",
       "    </tr>\n",
       "  </thead>\n",
       "  <tbody>\n",
       "    <tr>\n",
       "      <th>0</th>\n",
       "      <td>0</td>\n",
       "      <td>1</td>\n",
       "      <td>0</td>\n",
       "      <td>F</td>\n",
       "      <td>75</td>\n",
       "      <td>0.777778</td>\n",
       "      <td>5</td>\n",
       "      <td>7</td>\n",
       "      <td>1</td>\n",
       "      <td>1</td>\n",
       "      <td>0</td>\n",
       "      <td>1</td>\n",
       "      <td>1</td>\n",
       "      <td>0</td>\n",
       "      <td>0</td>\n",
       "      <td>0.020674</td>\n",
       "      <td>1322</td>\n",
       "      <td>1</td>\n",
       "      <td>5</td>\n",
       "      <td>2017</td>\n",
       "    </tr>\n",
       "    <tr>\n",
       "      <th>2</th>\n",
       "      <td>0</td>\n",
       "      <td>1</td>\n",
       "      <td>0</td>\n",
       "      <td>M</td>\n",
       "      <td>68</td>\n",
       "      <td>0.444444</td>\n",
       "      <td>10</td>\n",
       "      <td>7</td>\n",
       "      <td>1</td>\n",
       "      <td>1</td>\n",
       "      <td>0</td>\n",
       "      <td>1</td>\n",
       "      <td>0</td>\n",
       "      <td>1</td>\n",
       "      <td>0</td>\n",
       "      <td>0.018584</td>\n",
       "      <td>970</td>\n",
       "      <td>3</td>\n",
       "      <td>4</td>\n",
       "      <td>2018</td>\n",
       "    </tr>\n",
       "    <tr>\n",
       "      <th>5</th>\n",
       "      <td>0</td>\n",
       "      <td>1</td>\n",
       "      <td>0</td>\n",
       "      <td>M</td>\n",
       "      <td>65</td>\n",
       "      <td>0.255556</td>\n",
       "      <td>5</td>\n",
       "      <td>5</td>\n",
       "      <td>1</td>\n",
       "      <td>1</td>\n",
       "      <td>1</td>\n",
       "      <td>1</td>\n",
       "      <td>1</td>\n",
       "      <td>0</td>\n",
       "      <td>0</td>\n",
       "      <td>0.009916</td>\n",
       "      <td>1046</td>\n",
       "      <td>4</td>\n",
       "      <td>2</td>\n",
       "      <td>2018</td>\n",
       "    </tr>\n",
       "    <tr>\n",
       "      <th>7</th>\n",
       "      <td>0</td>\n",
       "      <td>1</td>\n",
       "      <td>0</td>\n",
       "      <td>M</td>\n",
       "      <td>58</td>\n",
       "      <td>0.233333</td>\n",
       "      <td>0</td>\n",
       "      <td>4</td>\n",
       "      <td>1</td>\n",
       "      <td>1</td>\n",
       "      <td>0</td>\n",
       "      <td>1</td>\n",
       "      <td>0</td>\n",
       "      <td>0</td>\n",
       "      <td>1</td>\n",
       "      <td>0.002411</td>\n",
       "      <td>1136</td>\n",
       "      <td>5</td>\n",
       "      <td>11</td>\n",
       "      <td>2017</td>\n",
       "    </tr>\n",
       "    <tr>\n",
       "      <th>8</th>\n",
       "      <td>0</td>\n",
       "      <td>1</td>\n",
       "      <td>0</td>\n",
       "      <td>F</td>\n",
       "      <td>61</td>\n",
       "      <td>0.300000</td>\n",
       "      <td>20</td>\n",
       "      <td>10</td>\n",
       "      <td>1</td>\n",
       "      <td>0</td>\n",
       "      <td>0</td>\n",
       "      <td>1</td>\n",
       "      <td>0</td>\n",
       "      <td>1</td>\n",
       "      <td>0</td>\n",
       "      <td>0.012816</td>\n",
       "      <td>1197</td>\n",
       "      <td>0</td>\n",
       "      <td>9</td>\n",
       "      <td>2017</td>\n",
       "    </tr>\n",
       "  </tbody>\n",
       "</table>\n",
       "</div>"
      ],
      "text/plain": [
       "   event__offer completed  event__offer received  event__offer viewed gender  \\\n",
       "0                       0                      1                    0      F   \n",
       "2                       0                      1                    0      M   \n",
       "5                       0                      1                    0      M   \n",
       "7                       0                      1                    0      M   \n",
       "8                       0                      1                    0      F   \n",
       "\n",
       "   age    income  difficulty  duration  email  mobile  social  web  \\\n",
       "0   75  0.777778           5         7      1       1       0    1   \n",
       "2   68  0.444444          10         7      1       1       0    1   \n",
       "5   65  0.255556           5         5      1       1       1    1   \n",
       "7   58  0.233333           0         4      1       1       0    1   \n",
       "8   61  0.300000          20        10      1       0       0    1   \n",
       "\n",
       "   offer_type__bogo  offer_type__discount  offer_type__informational  \\\n",
       "0                 1                     0                          0   \n",
       "2                 0                     1                          0   \n",
       "5                 1                     0                          0   \n",
       "7                 0                     0                          1   \n",
       "8                 0                     1                          0   \n",
       "\n",
       "   transaction_amount  days_as_customer  became_member_dayofweek  \\\n",
       "0            0.020674              1322                        1   \n",
       "2            0.018584               970                        3   \n",
       "5            0.009916              1046                        4   \n",
       "7            0.002411              1136                        5   \n",
       "8            0.012816              1197                        0   \n",
       "\n",
       "   became_member_month  became_member_year  \n",
       "0                    5                2017  \n",
       "2                    4                2018  \n",
       "5                    2                2018  \n",
       "7                   11                2017  \n",
       "8                    9                2017  "
      ]
     },
     "metadata": {},
     "output_type": "display_data"
    }
   ],
   "source": [
    "from sklearn.preprocessing import MinMaxScaler\n",
    "\n",
    "scaler = MinMaxScaler() # default=(0, 1)\n",
    "numerical = list(joined.select_dtypes('float'))\n",
    "keys_df = joined[['offer_person_id', 'offer_id','profile_person_id', 'portfolio_id']] \n",
    "features = joined[[i for i in list(joined) if i not in list(keys_df)]]\n",
    "features_log_minmax_transform = pd.DataFrame(data = features)\n",
    "features_log_minmax_transform[numerical] = scaler.fit_transform(joined[numerical])\n",
    "display(features_log_minmax_transform.head(n = 5))"
   ]
  },
  {
   "cell_type": "code",
   "execution_count": 28,
   "metadata": {},
   "outputs": [
    {
     "name": "stdout",
     "output_type": "stream",
     "text": [
      "Training set has 119044 samples.\n",
      "Testing set has 29761 samples.\n"
     ]
    }
   ],
   "source": [
    "from sklearn.model_selection import train_test_split\n",
    "\n",
    "# features = features_log_minmax_transform[[c for c in features_log_minmax_transform.columns \n",
    "#                                           if c not in ['person', 'offer_id', 'id']]]\n",
    "y=features_log_minmax_transform[['event__offer completed']]\n",
    "# y=features_log_minmax_transform[['transaction_amount']]\n",
    "features = features_log_minmax_transform.drop(columns=['event__offer completed',\n",
    "#                                                         'transaction_amount'])\n",
    "                                                      ])\n",
    "features.gender = features.gender.map({'M':1, 'F':2})\n",
    "\n",
    "X_train, X_test, y_train, y_test = train_test_split(features, \n",
    "                                                    y, \n",
    "                                                    test_size = 0.2, \n",
    "                                                    random_state = 0)\n",
    "\n",
    "# Show the results of the split\n",
    "print(\"Training set has {} samples.\".format(X_train.shape[0]))\n",
    "print(\"Testing set has {} samples.\".format(X_test.shape[0]))"
   ]
  },
  {
   "cell_type": "code",
   "execution_count": 29,
   "metadata": {},
   "outputs": [
    {
     "data": {
      "text/html": [
       "<div>\n",
       "<style scoped>\n",
       "    .dataframe tbody tr th:only-of-type {\n",
       "        vertical-align: middle;\n",
       "    }\n",
       "\n",
       "    .dataframe tbody tr th {\n",
       "        vertical-align: top;\n",
       "    }\n",
       "\n",
       "    .dataframe thead th {\n",
       "        text-align: right;\n",
       "    }\n",
       "</style>\n",
       "<table border=\"1\" class=\"dataframe\">\n",
       "  <thead>\n",
       "    <tr style=\"text-align: right;\">\n",
       "      <th></th>\n",
       "      <th>event__offer received</th>\n",
       "      <th>event__offer viewed</th>\n",
       "      <th>gender</th>\n",
       "      <th>age</th>\n",
       "      <th>income</th>\n",
       "      <th>difficulty</th>\n",
       "      <th>duration</th>\n",
       "      <th>email</th>\n",
       "      <th>mobile</th>\n",
       "      <th>social</th>\n",
       "      <th>web</th>\n",
       "      <th>offer_type__bogo</th>\n",
       "      <th>offer_type__discount</th>\n",
       "      <th>offer_type__informational</th>\n",
       "      <th>transaction_amount</th>\n",
       "      <th>days_as_customer</th>\n",
       "      <th>became_member_dayofweek</th>\n",
       "      <th>became_member_month</th>\n",
       "      <th>became_member_year</th>\n",
       "    </tr>\n",
       "  </thead>\n",
       "  <tbody>\n",
       "    <tr>\n",
       "      <th>140018</th>\n",
       "      <td>1</td>\n",
       "      <td>0</td>\n",
       "      <td>2.0</td>\n",
       "      <td>76</td>\n",
       "      <td>0.577778</td>\n",
       "      <td>0</td>\n",
       "      <td>4</td>\n",
       "      <td>1</td>\n",
       "      <td>1</td>\n",
       "      <td>0</td>\n",
       "      <td>1</td>\n",
       "      <td>0</td>\n",
       "      <td>0</td>\n",
       "      <td>1</td>\n",
       "      <td>0.018875</td>\n",
       "      <td>1499</td>\n",
       "      <td>6</td>\n",
       "      <td>11</td>\n",
       "      <td>2016</td>\n",
       "    </tr>\n",
       "    <tr>\n",
       "      <th>75326</th>\n",
       "      <td>0</td>\n",
       "      <td>1</td>\n",
       "      <td>2.0</td>\n",
       "      <td>52</td>\n",
       "      <td>0.422222</td>\n",
       "      <td>5</td>\n",
       "      <td>7</td>\n",
       "      <td>1</td>\n",
       "      <td>1</td>\n",
       "      <td>0</td>\n",
       "      <td>1</td>\n",
       "      <td>1</td>\n",
       "      <td>0</td>\n",
       "      <td>0</td>\n",
       "      <td>0.012764</td>\n",
       "      <td>1093</td>\n",
       "      <td>6</td>\n",
       "      <td>12</td>\n",
       "      <td>2017</td>\n",
       "    </tr>\n",
       "    <tr>\n",
       "      <th>86701</th>\n",
       "      <td>1</td>\n",
       "      <td>0</td>\n",
       "      <td>2.0</td>\n",
       "      <td>55</td>\n",
       "      <td>0.255556</td>\n",
       "      <td>10</td>\n",
       "      <td>7</td>\n",
       "      <td>1</td>\n",
       "      <td>1</td>\n",
       "      <td>0</td>\n",
       "      <td>1</td>\n",
       "      <td>0</td>\n",
       "      <td>1</td>\n",
       "      <td>0</td>\n",
       "      <td>0.001528</td>\n",
       "      <td>1237</td>\n",
       "      <td>2</td>\n",
       "      <td>8</td>\n",
       "      <td>2017</td>\n",
       "    </tr>\n",
       "    <tr>\n",
       "      <th>14835</th>\n",
       "      <td>0</td>\n",
       "      <td>1</td>\n",
       "      <td>1.0</td>\n",
       "      <td>29</td>\n",
       "      <td>0.355556</td>\n",
       "      <td>5</td>\n",
       "      <td>5</td>\n",
       "      <td>1</td>\n",
       "      <td>1</td>\n",
       "      <td>1</td>\n",
       "      <td>1</td>\n",
       "      <td>1</td>\n",
       "      <td>0</td>\n",
       "      <td>0</td>\n",
       "      <td>0.023178</td>\n",
       "      <td>1863</td>\n",
       "      <td>6</td>\n",
       "      <td>11</td>\n",
       "      <td>2015</td>\n",
       "    </tr>\n",
       "    <tr>\n",
       "      <th>41806</th>\n",
       "      <td>0</td>\n",
       "      <td>1</td>\n",
       "      <td>2.0</td>\n",
       "      <td>68</td>\n",
       "      <td>0.133333</td>\n",
       "      <td>10</td>\n",
       "      <td>7</td>\n",
       "      <td>1</td>\n",
       "      <td>1</td>\n",
       "      <td>0</td>\n",
       "      <td>1</td>\n",
       "      <td>0</td>\n",
       "      <td>1</td>\n",
       "      <td>0</td>\n",
       "      <td>0.004542</td>\n",
       "      <td>1342</td>\n",
       "      <td>2</td>\n",
       "      <td>4</td>\n",
       "      <td>2017</td>\n",
       "    </tr>\n",
       "  </tbody>\n",
       "</table>\n",
       "</div>"
      ],
      "text/plain": [
       "        event__offer received  event__offer viewed  gender  age    income  \\\n",
       "140018                      1                    0     2.0   76  0.577778   \n",
       "75326                       0                    1     2.0   52  0.422222   \n",
       "86701                       1                    0     2.0   55  0.255556   \n",
       "14835                       0                    1     1.0   29  0.355556   \n",
       "41806                       0                    1     2.0   68  0.133333   \n",
       "\n",
       "        difficulty  duration  email  mobile  social  web  offer_type__bogo  \\\n",
       "140018           0         4      1       1       0    1                 0   \n",
       "75326            5         7      1       1       0    1                 1   \n",
       "86701           10         7      1       1       0    1                 0   \n",
       "14835            5         5      1       1       1    1                 1   \n",
       "41806           10         7      1       1       0    1                 0   \n",
       "\n",
       "        offer_type__discount  offer_type__informational  transaction_amount  \\\n",
       "140018                     0                          1            0.018875   \n",
       "75326                      0                          0            0.012764   \n",
       "86701                      1                          0            0.001528   \n",
       "14835                      0                          0            0.023178   \n",
       "41806                      1                          0            0.004542   \n",
       "\n",
       "        days_as_customer  became_member_dayofweek  became_member_month  \\\n",
       "140018              1499                        6                   11   \n",
       "75326               1093                        6                   12   \n",
       "86701               1237                        2                    8   \n",
       "14835               1863                        6                   11   \n",
       "41806               1342                        2                    4   \n",
       "\n",
       "        became_member_year  \n",
       "140018                2016  \n",
       "75326                 2017  \n",
       "86701                 2017  \n",
       "14835                 2015  \n",
       "41806                 2017  "
      ]
     },
     "execution_count": 29,
     "metadata": {},
     "output_type": "execute_result"
    }
   ],
   "source": [
    "features.sample(5)"
   ]
  },
  {
   "cell_type": "code",
   "execution_count": 32,
   "metadata": {},
   "outputs": [],
   "source": [
    "from sklearn.model_selection import StratifiedKFold\n",
    "from sklearn.metrics import mean_squared_error, mean_absolute_error, r2_score\n",
    "def grid_search(model, params, X, y, X_train, y_train, X_test, y_test):\n",
    "    \"\"\"SOURCE: Taken from Introduction to ML project project\"\"\"\n",
    "    scorer = make_scorer(f1_score)\n",
    "#     g_search =  GridSearchCV(model, params, scoring=scorer)\n",
    "    g_search = GridSearchCV(model, params,\n",
    "                              cv=StratifiedKFold(n_splits=10, \n",
    "                                                 shuffle = True, \n",
    "                                                 random_state = 1001).split(\n",
    "                                  X, y.values.ravel()), verbose=3, n_jobs=6)\n",
    "    g_fit = g_search.fit(X, y.values.ravel())\n",
    "    best_model = g_fit.best_estimator_\n",
    "    predictions = (model.fit(X_train, y_train)).predict(X_test)\n",
    "    best_predictions = best_model.predict(X_test)\n",
    "    \n",
    "#     print(\"Unoptimized model\\n------\")\n",
    "#     print(f\"MSE: {mean_squared_error(y_test, predictions)}\")\n",
    "#     print(f\"MAE: {mean_absolute_error(y_test, predictions)}\")\n",
    "#     print(f\"R2: {r2_score(y_test, predictions)}\")\n",
    "#     print(\"\\nOptimized Model\\n------\")\n",
    "#     print(f\"MSE: {mean_squared_error(y_test, best_predictions)}\")\n",
    "#     print(f\"MAE{mean_absolute_error(y_test, best_predictions)}\")\n",
    "#     print(f\"R2: {r2_score(y_test, best_predictions)}\")\n",
    "#     return {\n",
    "#         'best_model': best_model,\n",
    "#         'unoptimized_mse_score': mean_squared_error(y_test, predictions),\n",
    "#         'unoptimized_mae_score': mean_absolute_error(y_test, predictions),\n",
    "#         'unoptimized_r2_score': r2_score(y_test, predictions),\n",
    "#         'optimized_mse_score': mean_squared_error(y_test, best_predictions),\n",
    "#         'optimized_mae_score': mean_absolute_error(y_test, best_predictions),\n",
    "#         'optimized_r2_score': r2_score(y_test, best_predictions),\n",
    "#     }\n",
    "    print(\"Unoptimized model\\n------\")\n",
    "    print(\"Accuracy score on testing data: {:.4f}\".format(accuracy_score(y_test, predictions)))\n",
    "    print(\"F-score on testing data: {:.4f}\".format(fbeta_score(y_test, predictions, beta = 0.5)))\n",
    "    print(\"\\nOptimized Model\\n------\")\n",
    "    print(\"Final accuracy score on the testing data: {:.4f}\".format(accuracy_score(y_test, best_predictions)))\n",
    "    print(\"Final F-score on the testing data: {:.4f}\".format(fbeta_score(y_test, best_predictions, beta = 0.5)))    \n",
    "    return {\n",
    "        'best_clf': best_model,\n",
    "        'unoptimized_accuracy_score': accuracy_score(y_test, predictions),\n",
    "        'unoptimized_beta_score': fbeta_score(y_test, predictions, beta = 0.5),\n",
    "        'optimized_accuracy_score': accuracy_score(y_test, best_predictions),\n",
    "        'optimized_beta_score':fbeta_score(y_test, best_predictions, beta = 0.5),\n",
    "    }\n"
   ]
  },
  {
   "cell_type": "code",
   "execution_count": 33,
   "metadata": {
    "scrolled": true
   },
   "outputs": [
    {
     "name": "stdout",
     "output_type": "stream",
     "text": [
      "Fitting 10 folds for each of 96 candidates, totalling 960 fits\n"
     ]
    },
    {
     "name": "stderr",
     "output_type": "stream",
     "text": [
      "[Parallel(n_jobs=6)]: Using backend LokyBackend with 6 concurrent workers.\n",
      "[Parallel(n_jobs=6)]: Done  20 tasks      | elapsed:   23.9s\n",
      "[Parallel(n_jobs=6)]: Done 116 tasks      | elapsed:  3.2min\n",
      "[Parallel(n_jobs=6)]: Done 276 tasks      | elapsed:  8.0min\n",
      "[Parallel(n_jobs=6)]: Done 500 tasks      | elapsed: 14.7min\n",
      "[Parallel(n_jobs=6)]: Done 788 tasks      | elapsed: 24.1min\n",
      "[Parallel(n_jobs=6)]: Done 960 out of 960 | elapsed: 29.8min finished\n"
     ]
    },
    {
     "name": "stdout",
     "output_type": "stream",
     "text": [
      "[13:20:05] WARNING: /Users/travis/build/dmlc/xgboost/src/objective/regression_obj.cu:170: reg:linear is now deprecated in favor of reg:squarederror.\n",
      "[13:20:06] WARNING: /Users/travis/build/dmlc/xgboost/src/objective/regression_obj.cu:170: reg:linear is now deprecated in favor of reg:squarederror.\n",
      "[13:20:06] WARNING: /Users/travis/build/dmlc/xgboost/src/objective/regression_obj.cu:170: reg:linear is now deprecated in favor of reg:squarederror.\n"
     ]
    },
    {
     "name": "stderr",
     "output_type": "stream",
     "text": [
      "/Library/Frameworks/Python.framework/Versions/3.8/lib/python3.8/site-packages/sklearn/utils/validation.py:72: DataConversionWarning: A column-vector y was passed when a 1d array was expected. Please change the shape of y to (n_samples, ), for example using ravel().\n",
      "  return f(**kwargs)\n"
     ]
    },
    {
     "name": "stdout",
     "output_type": "stream",
     "text": [
      "[13:20:07] WARNING: /Users/travis/build/dmlc/xgboost/src/objective/regression_obj.cu:170: reg:linear is now deprecated in favor of reg:squarederror.\n",
      "Unoptimized model\n",
      "------\n",
      "Accuracy score on testing data: 1.0000\n",
      "F-score on testing data: 1.0000\n",
      "\n",
      "Optimized Model\n",
      "------\n",
      "Final accuracy score on the testing data: 1.0000\n",
      "Final F-score on the testing data: 1.0000\n",
      "CPU times: user 27.7 s, sys: 851 ms, total: 28.5 s\n",
      "Wall time: 29min 48s\n"
     ]
    }
   ],
   "source": [
    "%%time\n",
    "import xgboost as xgb\n",
    "from sklearn.model_selection import GridSearchCV\n",
    "from sklearn.metrics import make_scorer, f1_score, fbeta_score, accuracy_score\n",
    "\n",
    "xgb_params = {\n",
    "    'max_depth': range (2, 10, 1),\n",
    "    'n_estimators': range(60, 220, 40),\n",
    "    'learning_rate': [0.1, 0.01, 0.05]\n",
    "}\n",
    "grid_search_results = grid_search(xgb.XGBClassifier(objective = 'reg:squarederror'), #'reg:linear'),\n",
    "                          xgb_params, features, y, \n",
    "                          X_train, y_train,\n",
    "                          X_test, y_test)\n",
    "\n",
    "# '''Example parameters taken from: https://www.kaggle.com/jayatou/xgbregressor-with-gridsearchcv'''\n",
    "# xgb_params = {'nthread':[4], \n",
    "#               'objective':['reg:linear'],\n",
    "#               'learning_rate': [.03, 0.05, .07], \n",
    "#               'max_depth': [5, 6, 7],\n",
    "#               'min_child_weight': [4],\n",
    "#               'silent': [1],\n",
    "#               'subsample': [0.7],\n",
    "#               'colsample_bytree': [0.7],\n",
    "#               'n_estimators': [500]}\n",
    "\n",
    "# xgbr = xgb.XGBRegressor(objective=\"reg:linear\", random_state=42)\n",
    "# grid_search_results = grid_search(xgbr,\n",
    "#                           xgb_params, features, y, \n",
    "#                           X_train, y_train,\n",
    "#                           X_test, y_test)\n"
   ]
  },
  {
   "cell_type": "code",
   "execution_count": 34,
   "metadata": {},
   "outputs": [
    {
     "data": {
      "text/plain": [
       "{'best_clf': XGBClassifier(base_score=0.5, booster='gbtree', colsample_bylevel=1,\n",
       "               colsample_bynode=1, colsample_bytree=1, gamma=0, gpu_id=-1,\n",
       "               importance_type='gain', interaction_constraints='',\n",
       "               learning_rate=0.1, max_delta_step=0, max_depth=2,\n",
       "               min_child_weight=1, missing=nan, monotone_constraints='()',\n",
       "               n_estimators=60, n_jobs=0, num_parallel_tree=1,\n",
       "               objective='reg:linear', random_state=0, reg_alpha=0, reg_lambda=1,\n",
       "               scale_pos_weight=1, subsample=1, tree_method='exact',\n",
       "               validate_parameters=1, verbosity=None),\n",
       " 'unoptimized_accuracy_score': 1.0,\n",
       " 'unoptimized_beta_score': 1.0,\n",
       " 'optimized_accuracy_score': 1.0,\n",
       " 'optimized_beta_score': 1.0}"
      ]
     },
     "execution_count": 34,
     "metadata": {},
     "output_type": "execute_result"
    }
   ],
   "source": [
    "grid_search_results"
   ]
  },
  {
   "cell_type": "code",
   "execution_count": 35,
   "metadata": {},
   "outputs": [],
   "source": [
    "import pickle\n",
    "with open('grid_search_results.pkl', 'wb') as f:\n",
    "    pickle.dump(grid_search_results, f, protocol=pickle.HIGHEST_PROTOCOL)\n"
   ]
  },
  {
   "cell_type": "code",
   "execution_count": 36,
   "metadata": {},
   "outputs": [
    {
     "name": "stdout",
     "output_type": "stream",
     "text": [
      "[13:28:37] WARNING: /Users/travis/build/dmlc/xgboost/src/objective/regression_obj.cu:170: reg:linear is now deprecated in favor of reg:squarederror.\n"
     ]
    }
   ],
   "source": [
    "import pickle\n",
    "with open('grid_search_results.pkl', 'rb') as f:\n",
    "    grid_search_results = pickle.load(f)\n"
   ]
  },
  {
   "cell_type": "code",
   "execution_count": 37,
   "metadata": {},
   "outputs": [
    {
     "data": {
      "text/plain": [
       "XGBClassifier(base_score=0.5, booster='gbtree', colsample_bylevel=1,\n",
       "              colsample_bynode=1, colsample_bytree=1, gamma=0, gpu_id=-1,\n",
       "              importance_type='gain', interaction_constraints='',\n",
       "              learning_rate=0.1, max_delta_step=0, max_depth=2,\n",
       "              min_child_weight=1, missing=nan, monotone_constraints='()',\n",
       "              n_estimators=60, n_jobs=0, num_parallel_tree=1,\n",
       "              objective='reg:linear', random_state=0, reg_alpha=0, reg_lambda=1,\n",
       "              scale_pos_weight=1, subsample=1, tree_method='exact',\n",
       "              validate_parameters=1, verbosity=None)"
      ]
     },
     "execution_count": 37,
     "metadata": {},
     "output_type": "execute_result"
    }
   ],
   "source": [
    "# x = grid_search_results['best_clf']\n",
    "grid_search_results['best_clf']"
   ]
  },
  {
   "cell_type": "code",
   "execution_count": 81,
   "metadata": {},
   "outputs": [],
   "source": [
    "# x = xgb.XGBClassifier(base_score=0.5, booster='gbtree', colsample_bylevel=1,\n",
    "#               colsample_bynode=1, colsample_bytree=1, gamma=0, gpu_id=-1,\n",
    "#               importance_type='gain', interaction_constraints='',\n",
    "#               learning_rate=0.1, max_delta_step=0, max_depth=2,\n",
    "#               min_child_weight=1, missing=np.nan, monotone_constraints='()',\n",
    "#               n_estimators=60, n_jobs=0, num_parallel_tree=1,\n",
    "#               objective='binary:logistic', random_state=0, reg_alpha=0,\n",
    "#               reg_lambda=1, scale_pos_weight=1, subsample=1,\n",
    "#               tree_method='exact', validate_parameters=1, verbosity=None)\n",
    "x = grid_search_results['best_clf']"
   ]
  },
  {
   "cell_type": "code",
   "execution_count": 82,
   "metadata": {},
   "outputs": [
    {
     "data": {
      "text/plain": [
       "'TODO:\\n- Change to XGB to Regression model\\n- Figure out which vars to remove\\n'"
      ]
     },
     "execution_count": 82,
     "metadata": {},
     "output_type": "execute_result"
    }
   ],
   "source": [
    "X_train_temp = X_train[[i for i in list(X_train) \n",
    "                       if i not in \n",
    "                        [\n",
    "                       'event__offer received',\n",
    "                        'event__offer viewed',\n",
    "                        'days_as_customer',\n",
    "                        'became_member_month',\n",
    "                        'became_member_year',\n",
    "                        ]\n",
    "                       ]]\n",
    "X_test_temp = X_test[[i for i in list(X_test) \n",
    "                       if i not in [\n",
    "                       'event__offer received',\n",
    "                        'event__offer viewed',\n",
    "                        'days_as_customer',\n",
    "                        'became_member_month',\n",
    "                        'became_member_year',\n",
    "                       ]\n",
    "                     ]]\n",
    "\"\"\"TODO:\n",
    "- Change to XGB to Regression model\n",
    "- Figure out which vars to remove\n",
    "\"\"\""
   ]
  },
  {
   "cell_type": "code",
   "execution_count": 83,
   "metadata": {},
   "outputs": [
    {
     "name": "stdout",
     "output_type": "stream",
     "text": [
      "[14:02:10] WARNING: /Users/travis/build/dmlc/xgboost/src/objective/regression_obj.cu:170: reg:linear is now deprecated in favor of reg:squarederror.\n",
      "[14:02:11] WARNING: /Users/travis/build/dmlc/xgboost/src/objective/regression_obj.cu:170: reg:linear is now deprecated in favor of reg:squarederror.\n",
      "\n",
      "Optimized model\n",
      "------\n",
      "Accuracy score on testing data: 0.7823\n",
      "F-score on testing data: 0.0000\n"
     ]
    }
   ],
   "source": [
    "x.fit(X_train_temp, y_train)\n",
    "predictions = x.predict(X_test_temp)\n",
    "print(\"\\nOptimized model\\n------\")\n",
    "print(\"Accuracy score on testing data: {:.4f}\".format(accuracy_score(y_test, predictions)))\n",
    "print(\"F-score on testing data: {:.4f}\".format(fbeta_score(y_test, predictions, beta = 0.5)))"
   ]
  },
  {
   "cell_type": "code",
   "execution_count": 84,
   "metadata": {},
   "outputs": [
    {
     "data": {
      "text/html": [
       "<div>\n",
       "<style scoped>\n",
       "    .dataframe tbody tr th:only-of-type {\n",
       "        vertical-align: middle;\n",
       "    }\n",
       "\n",
       "    .dataframe tbody tr th {\n",
       "        vertical-align: top;\n",
       "    }\n",
       "\n",
       "    .dataframe thead th {\n",
       "        text-align: right;\n",
       "    }\n",
       "</style>\n",
       "<table border=\"1\" class=\"dataframe\">\n",
       "  <thead>\n",
       "    <tr style=\"text-align: right;\">\n",
       "      <th></th>\n",
       "      <th>gender</th>\n",
       "      <th>age</th>\n",
       "      <th>income</th>\n",
       "      <th>difficulty</th>\n",
       "      <th>duration</th>\n",
       "      <th>email</th>\n",
       "      <th>mobile</th>\n",
       "      <th>social</th>\n",
       "      <th>web</th>\n",
       "      <th>offer_type__bogo</th>\n",
       "      <th>offer_type__discount</th>\n",
       "      <th>offer_type__informational</th>\n",
       "      <th>transaction_amount</th>\n",
       "      <th>became_member_dayofweek</th>\n",
       "      <th>predicted</th>\n",
       "      <th>actual</th>\n",
       "    </tr>\n",
       "  </thead>\n",
       "  <tbody>\n",
       "  </tbody>\n",
       "</table>\n",
       "</div>"
      ],
      "text/plain": [
       "Empty DataFrame\n",
       "Columns: [gender, age, income, difficulty, duration, email, mobile, social, web, offer_type__bogo, offer_type__discount, offer_type__informational, transaction_amount, became_member_dayofweek, predicted, actual]\n",
       "Index: []"
      ]
     },
     "execution_count": 84,
     "metadata": {},
     "output_type": "execute_result"
    }
   ],
   "source": [
    "# x.predict(X_test)\n",
    "xt = X_test_temp.copy()\n",
    "xt['predicted'] = x.predict(X_test_temp) \n",
    "xt['actual'] = x.predict(X_test_temp)\n",
    "xt[xt.predicted != xt.actual]"
   ]
  },
  {
   "cell_type": "code",
   "execution_count": 85,
   "metadata": {},
   "outputs": [],
   "source": [
    "# Import library for VIF\n",
    "from statsmodels.stats.outliers_influence import variance_inflation_factor\n",
    "\n",
    "def calc_vif(X):\n",
    "    vif = pd.DataFrame()\n",
    "    vif[\"variables\"] = X.columns\n",
    "    vif[\"VIF\"] = [variance_inflation_factor(X.values, i) for i in range(X.shape[1])]\n",
    "    return(vif)"
   ]
  },
  {
   "cell_type": "code",
   "execution_count": 116,
   "metadata": {},
   "outputs": [
    {
     "name": "stderr",
     "output_type": "stream",
     "text": [
      "/Library/Frameworks/Python.framework/Versions/3.8/lib/python3.8/site-packages/statsmodels/regression/linear_model.py:1715: RuntimeWarning: divide by zero encountered in double_scalars\n",
      "  return 1 - self.ssr/self.centered_tss\n",
      "/Library/Frameworks/Python.framework/Versions/3.8/lib/python3.8/site-packages/statsmodels/stats/outliers_influence.py:193: RuntimeWarning: divide by zero encountered in double_scalars\n",
      "  vif = 1. / (1. - r_squared_i)\n"
     ]
    },
    {
     "data": {
      "text/html": [
       "<div>\n",
       "<style scoped>\n",
       "    .dataframe tbody tr th:only-of-type {\n",
       "        vertical-align: middle;\n",
       "    }\n",
       "\n",
       "    .dataframe tbody tr th {\n",
       "        vertical-align: top;\n",
       "    }\n",
       "\n",
       "    .dataframe thead th {\n",
       "        text-align: right;\n",
       "    }\n",
       "</style>\n",
       "<table border=\"1\" class=\"dataframe\">\n",
       "  <thead>\n",
       "    <tr style=\"text-align: right;\">\n",
       "      <th></th>\n",
       "      <th>variables</th>\n",
       "      <th>VIF</th>\n",
       "    </tr>\n",
       "  </thead>\n",
       "  <tbody>\n",
       "  </tbody>\n",
       "</table>\n",
       "</div>"
      ],
      "text/plain": [
       "Empty DataFrame\n",
       "Columns: [variables, VIF]\n",
       "Index: []"
      ]
     },
     "metadata": {},
     "output_type": "display_data"
    },
    {
     "name": "stdout",
     "output_type": "stream",
     "text": [
      "Dropping variables with high VIF values: []\n"
     ]
    }
   ],
   "source": [
    "vif = calc_vif(features.dropna())\n",
    "vif = vif[vif.VIF > 10]\n",
    "vif.VIF = vif.VIF.replace([np.inf, -np.inf], np.nan)\n",
    "vif = vif.dropna()\n",
    "display(vif)\n",
    "print(f'Dropping variables with high VIF values: {vif.variables.tolist()}')\n",
    "features = features[[c for c in features.columns if c not in vif.variables.tolist()]]"
   ]
  },
  {
   "cell_type": "code",
   "execution_count": 115,
   "metadata": {},
   "outputs": [
    {
     "data": {
      "text/plain": [
       "event__offer received          int64\n",
       "event__offer viewed            int64\n",
       "gender                       float64\n",
       "age                            int64\n",
       "income                       float64\n",
       "difficulty                     int64\n",
       "duration                       int64\n",
       "email                          int64\n",
       "mobile                         int64\n",
       "social                         int64\n",
       "web                            int64\n",
       "offer_type__bogo               int64\n",
       "offer_type__discount           int64\n",
       "offer_type__informational      int64\n",
       "transaction_amount           float64\n",
       "became_member_dayofweek        int64\n",
       "dtype: object"
      ]
     },
     "execution_count": 115,
     "metadata": {},
     "output_type": "execute_result"
    }
   ],
   "source": [
    "# x.feature_importances_\n",
    "features.dtypes"
   ]
  },
  {
   "cell_type": "code",
   "execution_count": 95,
   "metadata": {},
   "outputs": [
    {
     "name": "stdout",
     "output_type": "stream",
     "text": [
      "[14:52:31] WARNING: /Users/travis/build/dmlc/xgboost/src/objective/regression_obj.cu:170: reg:linear is now deprecated in favor of reg:squarederror.\n",
      "[14:52:31] WARNING: /Users/travis/build/dmlc/xgboost/src/objective/regression_obj.cu:170: reg:linear is now deprecated in favor of reg:squarederror.\n"
     ]
    },
    {
     "name": "stderr",
     "output_type": "stream",
     "text": [
      "/Library/Frameworks/Python.framework/Versions/3.8/lib/python3.8/site-packages/sklearn/utils/validation.py:72: DataConversionWarning: A column-vector y was passed when a 1d array was expected. Please change the shape of y to (n_samples, ), for example using ravel().\n",
      "  return f(**kwargs)\n"
     ]
    },
    {
     "data": {
      "text/html": [
       "<div>\n",
       "<style scoped>\n",
       "    .dataframe tbody tr th:only-of-type {\n",
       "        vertical-align: middle;\n",
       "    }\n",
       "\n",
       "    .dataframe tbody tr th {\n",
       "        vertical-align: top;\n",
       "    }\n",
       "\n",
       "    .dataframe thead th {\n",
       "        text-align: right;\n",
       "    }\n",
       "</style>\n",
       "<table border=\"1\" class=\"dataframe\">\n",
       "  <thead>\n",
       "    <tr style=\"text-align: right;\">\n",
       "      <th></th>\n",
       "      <th>Importance</th>\n",
       "    </tr>\n",
       "    <tr>\n",
       "      <th>Feature</th>\n",
       "      <th></th>\n",
       "    </tr>\n",
       "  </thead>\n",
       "  <tbody>\n",
       "    <tr>\n",
       "      <th>transaction_amount</th>\n",
       "      <td>0.009584</td>\n",
       "    </tr>\n",
       "    <tr>\n",
       "      <th>income</th>\n",
       "      <td>0.001198</td>\n",
       "    </tr>\n",
       "    <tr>\n",
       "      <th>duration</th>\n",
       "      <td>0.001198</td>\n",
       "    </tr>\n",
       "    <tr>\n",
       "      <th>gender</th>\n",
       "      <td>0.000000</td>\n",
       "    </tr>\n",
       "    <tr>\n",
       "      <th>age</th>\n",
       "      <td>0.000000</td>\n",
       "    </tr>\n",
       "    <tr>\n",
       "      <th>difficulty</th>\n",
       "      <td>0.000000</td>\n",
       "    </tr>\n",
       "    <tr>\n",
       "      <th>email</th>\n",
       "      <td>0.000000</td>\n",
       "    </tr>\n",
       "    <tr>\n",
       "      <th>mobile</th>\n",
       "      <td>0.000000</td>\n",
       "    </tr>\n",
       "    <tr>\n",
       "      <th>social</th>\n",
       "      <td>0.000000</td>\n",
       "    </tr>\n",
       "    <tr>\n",
       "      <th>web</th>\n",
       "      <td>0.000000</td>\n",
       "    </tr>\n",
       "    <tr>\n",
       "      <th>offer_type__bogo</th>\n",
       "      <td>0.000000</td>\n",
       "    </tr>\n",
       "    <tr>\n",
       "      <th>offer_type__discount</th>\n",
       "      <td>0.000000</td>\n",
       "    </tr>\n",
       "    <tr>\n",
       "      <th>offer_type__informational</th>\n",
       "      <td>0.000000</td>\n",
       "    </tr>\n",
       "    <tr>\n",
       "      <th>became_member_dayofweek</th>\n",
       "      <td>0.000000</td>\n",
       "    </tr>\n",
       "  </tbody>\n",
       "</table>\n",
       "</div>"
      ],
      "text/plain": [
       "                           Importance\n",
       "Feature                              \n",
       "transaction_amount           0.009584\n",
       "income                       0.001198\n",
       "duration                     0.001198\n",
       "gender                       0.000000\n",
       "age                          0.000000\n",
       "difficulty                   0.000000\n",
       "email                        0.000000\n",
       "mobile                       0.000000\n",
       "social                       0.000000\n",
       "web                          0.000000\n",
       "offer_type__bogo             0.000000\n",
       "offer_type__discount         0.000000\n",
       "offer_type__informational    0.000000\n",
       "became_member_dayofweek      0.000000"
      ]
     },
     "execution_count": 95,
     "metadata": {},
     "output_type": "execute_result"
    }
   ],
   "source": [
    "'''Adapted from:\n",
    "https://towardsdatascience.com/explaining-feature-importance-by-example-of-a-random-forest-d9166011959e\n",
    "'''\n",
    "r2 = lambda rf, X_train, y_train : r2_score(y_train.values.ravel(), rf.predict(X_train))\n",
    "permutation_importances(x, X_train_temp, y_train, r2)"
   ]
  },
  {
   "cell_type": "code",
   "execution_count": null,
   "metadata": {},
   "outputs": [],
   "source": []
  }
 ],
 "metadata": {
  "kernelspec": {
   "display_name": "Python 3",
   "language": "python",
   "name": "python3"
  },
  "language_info": {
   "codemirror_mode": {
    "name": "ipython",
    "version": 3
   },
   "file_extension": ".py",
   "mimetype": "text/x-python",
   "name": "python",
   "nbconvert_exporter": "python",
   "pygments_lexer": "ipython3",
   "version": "3.8.2"
  }
 },
 "nbformat": 4,
 "nbformat_minor": 4
}
