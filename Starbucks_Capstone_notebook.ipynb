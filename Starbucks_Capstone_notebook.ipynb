{
 "cells": [
  {
   "cell_type": "markdown",
   "metadata": {},
   "source": [
    "# Starbucks Capstone Challenge\n",
    "\n",
    "### Introduction\n",
    "\n",
    "This data set contains simulated data that mimics customer behavior on the Starbucks rewards mobile app. Once every few days, Starbucks sends out an offer to users of the mobile app. An offer can be merely an advertisement for a drink or an actual offer such as a discount or BOGO (buy one get one free). Some users might not receive any offer during certain weeks. \n",
    "\n",
    "Not all users receive the same offer, and that is the challenge to solve with this data set.\n",
    "\n",
    "Your task is to combine transaction, demographic and offer data to determine which demographic groups respond best to which offer type. This data set is a simplified version of the real Starbucks app because the underlying simulator only has one product whereas Starbucks actually sells dozens of products.\n",
    "\n",
    "Every offer has a validity period before the offer expires. As an example, a BOGO offer might be valid for only 5 days. You'll see in the data set that informational offers have a validity period even though these ads are merely providing information about a product; for example, if an informational offer has 7 days of validity, you can assume the customer is feeling the influence of the offer for 7 days after receiving the advertisement.\n",
    "\n",
    "You'll be given transactional data showing user purchases made on the app including the timestamp of purchase and the amount of money spent on a purchase. This transactional data also has a record for each offer that a user receives as well as a record for when a user actually views the offer. There are also records for when a user completes an offer. \n",
    "\n",
    "Keep in mind as well that someone using the app might make a purchase through the app without having received an offer or seen an offer.\n",
    "\n",
    "### Example\n",
    "\n",
    "To give an example, a user could receive a discount offer buy 10 dollars get 2 off on Monday. The offer is valid for 10 days from receipt. If the customer accumulates at least 10 dollars in purchases during the validity period, the customer completes the offer.\n",
    "\n",
    "However, there are a few things to watch out for in this data set. Customers do not opt into the offers that they receive; in other words, a user can receive an offer, never actually view the offer, and still complete the offer. For example, a user might receive the \"buy 10 dollars get 2 dollars off offer\", but the user never opens the offer during the 10 day validity period. The customer spends 15 dollars during those ten days. There will be an offer completion record in the data set; however, the customer was not influenced by the offer because the customer never viewed the offer.\n",
    "\n",
    "### Cleaning\n",
    "\n",
    "This makes data cleaning especially important and tricky.\n",
    "\n",
    "You'll also want to take into account that some demographic groups will make purchases even if they don't receive an offer. From a business perspective, if a customer is going to make a 10 dollar purchase without an offer anyway, you wouldn't want to send a buy 10 dollars get 2 dollars off offer. You'll want to try to assess what a certain demographic group will buy when not receiving any offers.\n",
    "\n",
    "### Final Advice\n",
    "\n",
    "Because this is a capstone project, you are free to analyze the data any way you see fit. For example, you could build a machine learning model that predicts how much someone will spend based on demographics and offer type. Or you could build a model that predicts whether or not someone will respond to an offer. Or, you don't need to build a machine learning model at all. You could develop a set of heuristics that determine what offer you should send to each customer (i.e., 75 percent of women customers who were 35 years old responded to offer A vs 40 percent from the same demographic to offer B, so send offer A)."
   ]
  },
  {
   "cell_type": "markdown",
   "metadata": {},
   "source": [
    "# Data Sets\n",
    "\n",
    "The data is contained in three files:\n",
    "\n",
    "* portfolio.json - containing offer ids and meta data about each offer (duration, type, etc.)\n",
    "* profile.json - demographic data for each customer\n",
    "* transcript.json - records for transactions, offers received, offers viewed, and offers completed\n",
    "\n",
    "Here is the schema and explanation of each variable in the files:\n",
    "\n",
    "**portfolio.json**\n",
    "* id (string) - offer id\n",
    "* offer_type (string) - type of offer ie BOGO, discount, informational\n",
    "* difficulty (int) - minimum required spend to complete an offer\n",
    "* reward (int) - reward given for completing an offer\n",
    "* duration (int) - time for offer to be open, in days\n",
    "* channels (list of strings)\n",
    "\n",
    "**profile.json**\n",
    "* age (int) - age of the customer \n",
    "* became_member_on (int) - date when customer created an app account\n",
    "* gender (str) - gender of the customer (note some entries contain 'O' for other rather than M or F)\n",
    "* id (str) - customer id\n",
    "* income (float) - customer's income\n",
    "\n",
    "**transcript.json**\n",
    "* event (str) - record description (ie transaction, offer received, offer viewed, etc.)\n",
    "* person (str) - customer id\n",
    "* time (int) - time in hours since start of test. The data begins at time t=0\n",
    "* value - (dict of strings) - either an offer id or transaction amount depending on the record\n",
    "\n",
    "**Note:** If you are using the workspace, you will need to go to the terminal and run the command `conda update pandas` before reading in the files. This is because the version of pandas in the workspace cannot read in the transcript.json file correctly, but the newest version of pandas can. You can access the termnal from the orange icon in the top left of this notebook.  \n",
    "\n",
    "You can see how to access the terminal and how the install works using the two images below.  First you need to access the terminal:\n",
    "\n",
    "<img src=\"pic1.png\"/>\n",
    "\n",
    "Then you will want to run the above command:\n",
    "\n",
    "<img src=\"pic2.png\"/>\n",
    "\n",
    "Finally, when you enter back into the notebook (use the jupyter icon again), you should be able to run the below cell without any errors."
   ]
  },
  {
   "cell_type": "code",
   "execution_count": 1,
   "metadata": {},
   "outputs": [],
   "source": [
    "# %pip install -U missingno"
   ]
  },
  {
   "cell_type": "code",
   "execution_count": 2,
   "metadata": {},
   "outputs": [
    {
     "name": "stdout",
     "output_type": "stream",
     "text": [
      "Loading data from portfolio.json...\n",
      "Loading data from profile.json...\n",
      "Loading data from transcript.json...\n",
      "CPU times: user 5.92 s, sys: 762 ms, total: 6.69 s\n",
      "Wall time: 6.15 s\n"
     ]
    }
   ],
   "source": [
    "%%time\n",
    "from plugins.plugin_utils import *\n",
    "import pandas as pd\n",
    "import numpy as np\n",
    "import math\n",
    "import json\n",
    "import seaborn as sns\n",
    "from IPython.core.magic import (Magics, magics_class, line_magic, cell_magic)\n",
    "from IPython import get_ipython\n",
    "from datetime import datetime\n",
    "%matplotlib inline\n",
    "\n",
    "conn = prepare_connection(sqlite3.connect('starbucks.db', detect_types=sqlite3.PARSE_DECLTYPES))\n",
    "@magics_class\n",
    "class SqlMagic(Magics):\n",
    "\n",
    "    @cell_magic\n",
    "    def sql(self, line, cell):\n",
    "        return conn.execute(cell).fetchall()\n",
    "\n",
    "    @cell_magic\n",
    "    def to_df(self, line, cell):\n",
    "        return pd.read_sql(cell, conn)\n",
    "    \n",
    "get_ipython().register_magics(SqlMagic)    \n",
    "sql = lambda x: conn.execute(x).fetchall()\n",
    "to_df = lambda x: pd.read_sql(x, conn)\n",
    "\n",
    "# read in the json files\n",
    "def load_json_file_to_table(fname):\n",
    "    print(f'Loading data from {fname}...')\n",
    "    fname = fname.replace('.json','')\n",
    "    pd.read_json(f\"data/{fname}.json\", \n",
    "                 orient='records', \n",
    "                 lines=True\n",
    "                ).to_sql(\n",
    "                        fname,\n",
    "                        conn,\n",
    "                        index=False,\n",
    "                        if_exists='replace')\n",
    "    \n",
    "load_json_file_to_table('portfolio.json')\n",
    "load_json_file_to_table('profile.json')\n",
    "load_json_file_to_table('transcript.json')"
   ]
  },
  {
   "cell_type": "code",
   "execution_count": 3,
   "metadata": {},
   "outputs": [
    {
     "name": "stdout",
     "output_type": "stream",
     "text": [
      "CPU times: user 3 µs, sys: 0 ns, total: 3 µs\n",
      "Wall time: 5.96 µs\n"
     ]
    }
   ],
   "source": [
    "%%time\n",
    "def clean_transcripts():\n",
    "    offers = to_df(\n",
    "        \"\"\"select person,\n",
    "               event,\n",
    "               json_extract(value, '$.offer_id') offer_id,\n",
    "               json_extract(value, '$.reward')   reward,\n",
    "               time\n",
    "        from (\n",
    "                 select person, event, replace(value, 'offer id', 'offer_id') value, time\n",
    "                 from transcript\n",
    "                 where event like '%offer%'\n",
    "             );\"\"\")\n",
    "    offers = offers.join(pd.get_dummies(offers.event, prefix='event_'),\n",
    "                           how='outer').drop(columns=['event'])\n",
    "    transactions = to_df(\"\"\"select person, \n",
    "                               -- event, \n",
    "                               json_extract(value, '$.amount') amount, time\n",
    "                            from transcript\n",
    "                            where event not like '%offer%';\"\"\")\n",
    "\n",
    "    return offers, transactions\n",
    "\n",
    "def clean_profile():\n",
    "#     profile = df.copy()\n",
    "    profile = to_df('select * from profile')\n",
    "    profile.age = profile.age.astype(int)\n",
    "    \n",
    "    #CONVERT GENDER TO CATEGORY\n",
    "#     profile = pd.concat([profile, pd.get_dummies(profile.gender, prefix='gender_')]).drop(columns=['gender'])\n",
    "    profile.gender = profile.gender.astype('category')\n",
    "    \n",
    "    #CLEAN DATE FIELD\n",
    "    conv_date = lambda a: datetime.strptime(str(int(a)), '%Y%m%d').strftime('%m/%d/%Y') if not np.isnan(a) else np.NaN\n",
    "    profile.became_member_on = profile.became_member_on.apply(conv_date).astype('datetime64')\n",
    "    profile = profile[profile.age != 118]\n",
    "    \n",
    "    #BINNING AGE BRACKETS\n",
    "    mapping = [profile['age'].between(0, 22), \n",
    "                profile['age'].between(23, 38),\n",
    "                profile['age'].between(39, 54),\n",
    "                profile['age'].between(55, 73),\n",
    "                profile['age'].between(74, 150),]\n",
    "    vals = ['gen_z', 'millenial', 'gen_x', 'ok_boomer', 'silent_gen']\n",
    "    profile['age_bracket'] = np.select(mapping, vals, 0)\n",
    "    \n",
    "    profile.income = profile.income.astype(int)\n",
    "    return profile\n",
    "\n",
    "def clean_portfolio():\n",
    "    portfolio = to_df('select * from portfolio')\n",
    "    portfolio.channels = portfolio.channels.apply(json.loads)\n",
    "    portfolio.channels = portfolio.channels.apply(lambda x: sorted(x))\n",
    "    'Example adapted from: https://stackoverflow.com/questions/29034928/pandas-convert-a-column-of-list-to-dummies'\n",
    "    _ = pd.get_dummies(portfolio.channels.apply(pd.Series).stack()).sum(level=0)\n",
    "    portfolio[list(_)] = _\n",
    "    portfolio = portfolio.drop(columns=['channels'])\n",
    "#     portfolio.offer_type = portfolio.offer_type.astype('category')\n",
    "    portfolio = portfolio.join(pd.get_dummies(portfolio.offer_type, prefix='offer_type_'),\n",
    "                           how='outer').drop(columns=['offer_type'])\n",
    "\n",
    "    return portfolio"
   ]
  },
  {
   "cell_type": "code",
   "execution_count": null,
   "metadata": {},
   "outputs": [],
   "source": [
    "%%time\n",
    "offers, transactions = clean_transcripts()\n",
    "portfolio = clean_portfolio()\n",
    "profile = clean_profile()"
   ]
  },
  {
   "cell_type": "code",
   "execution_count": null,
   "metadata": {},
   "outputs": [],
   "source": [
    "\"\"\"TODO:\n",
    "- (Optional) - Add exploratory visualizations. Distributions, correlation matrix to check for colinearity, scatterplot etc..\n",
    "- Change age bracket to bins and use get_dummies\n",
    "- Remove duplicate ID columns and drop / fix NaNs\n",
    "- Change reward to binary?? (look to see if Reward only goes with one type of offer)\n",
    "- Input / Normalize / standarize numeric features\n",
    "- Join all the datasets\"\"\"\n",
    "print('Offers:\\n'); display(offers.sample(5))\n",
    "print('Transactions:\\n'); display(transactions.sample(5))\n",
    "print('Portfolio:\\n'); display(portfolio.sample(5))\n",
    "print('Profile:\\n'); display(profile.sample(5))"
   ]
  },
  {
   "cell_type": "code",
   "execution_count": null,
   "metadata": {},
   "outputs": [],
   "source": [
    "profile.groupby(profile.became_member_on.dt.year).count()['age'].plot()"
   ]
  },
  {
   "cell_type": "code",
   "execution_count": null,
   "metadata": {},
   "outputs": [],
   "source": [
    "# for c in list(transcript):\n",
    "#     print(transcript.isnull().sum())\n",
    "print('Total rows:', len(profile), len(offers), len(transactions))\n",
    "sep = '\\n'+'*'*60 + '\\n'\n",
    "# print(f'{sep}Transcript % NULLs:{sep}{transcript.isnull().sum()/len(transcript)}')\n",
    "print(f'{sep}Offers % NULLs:{sep}{offers.isnull().sum()/len(offers)}')\n",
    "print(f'{sep}Transactions % NULLs:{sep}{transactions.isnull().sum()/len(transactions)}')\n",
    "print(f'{sep}Profile % NULLs:{sep}{profile.isnull().sum()/len(profile)}')\n",
    "# print(f'{sep}Portfolio % NULLs:{sep}{portfolio.isnull().sum()/len(portfolio)}')"
   ]
  },
  {
   "cell_type": "code",
   "execution_count": 10,
   "metadata": {},
   "outputs": [],
   "source": [
    "transactions.to_sql('transactions_cleaned', conn, index=False, if_exists='replace') \n",
    "offers.drop(columns=['reward']).to_sql('offers_cleaned', conn, index=False, if_exists='replace') \n",
    "portfolio.to_sql('portfolio_cleaned', conn, index=False, if_exists='replace') \n",
    "profile.to_sql('profile_cleaned', conn, index=False, if_exists='replace') \n"
   ]
  },
  {
   "cell_type": "code",
   "execution_count": null,
   "metadata": {},
   "outputs": [],
   "source": [
    "%%sql\n",
    "create index if not exists offers_offer_id_idx on offers(offer_id);"
   ]
  },
  {
   "cell_type": "code",
   "execution_count": 11,
   "metadata": {},
   "outputs": [],
   "source": [
    "joined = to_df(\"\"\"select *\n",
    "from offers_cleaned o\n",
    "         join profile pr on pr.id = o.person\n",
    "         join portfolio_cleaned pc on pc.id = o.offer_id\n",
    "         left join (select person, avg(amount) avg_trans_amt\n",
    "                    from transactions_cleaned\n",
    "                    group by person) t on t.person = pr.id\"\"\")"
   ]
  },
  {
   "cell_type": "code",
   "execution_count": 14,
   "metadata": {},
   "outputs": [
    {
     "name": "stdout",
     "output_type": "stream",
     "text": [
      "Total: 167581\n",
      "\n",
      "************************************************************\n",
      "Joined % NULLs:\n",
      "************************************************************\n",
      "person                       0.000000\n",
      "offer_id                     0.000000\n",
      "time                         0.000000\n",
      "event__offer completed       0.000000\n",
      "event__offer received        0.000000\n",
      "event__offer viewed          0.000000\n",
      "gender                       0.112041\n",
      "age                          0.000000\n",
      "id                           0.000000\n",
      "became_member_on             0.000000\n",
      "income                       0.112041\n",
      "reward                       0.000000\n",
      "difficulty                   0.000000\n",
      "duration                     0.000000\n",
      "id                           0.000000\n",
      "email                        0.000000\n",
      "mobile                       0.000000\n",
      "social                       0.000000\n",
      "web                          0.000000\n",
      "offer_type__bogo             0.000000\n",
      "offer_type__discount         0.000000\n",
      "offer_type__informational    0.000000\n",
      "person                       0.020128\n",
      "avg_trans_amt                0.020128\n",
      "dtype: float64\n"
     ]
    }
   ],
   "source": [
    "print('Total:', len(joined))\n",
    "print(f'{sep}Joined % NULLs:{sep}{joined.isnull().sum()/len(joined)}')\n",
    "joined = joined.dropna()"
   ]
  },
  {
   "cell_type": "code",
   "execution_count": 25,
   "metadata": {},
   "outputs": [
    {
     "data": {
      "text/plain": [
       "['person',\n",
       " 'offer_id',\n",
       " 'time',\n",
       " 'event__offer completed',\n",
       " 'event__offer received',\n",
       " 'event__offer viewed',\n",
       " 'gender',\n",
       " 'age',\n",
       " 'id',\n",
       " 'became_member_on',\n",
       " 'income',\n",
       " 'reward',\n",
       " 'difficulty',\n",
       " 'duration',\n",
       " 'id',\n",
       " 'email',\n",
       " 'mobile',\n",
       " 'social',\n",
       " 'web',\n",
       " 'offer_type__bogo',\n",
       " 'offer_type__discount',\n",
       " 'offer_type__informational',\n",
       " 'person',\n",
       " 'avg_trans_amt']"
      ]
     },
     "execution_count": 25,
     "metadata": {},
     "output_type": "execute_result"
    }
   ],
   "source": [
    "list(joined)"
   ]
  },
  {
   "cell_type": "code",
   "execution_count": null,
   "metadata": {},
   "outputs": [],
   "source": []
  }
 ],
 "metadata": {
  "kernelspec": {
   "display_name": "Python 3",
   "language": "python",
   "name": "python3"
  },
  "language_info": {
   "codemirror_mode": {
    "name": "ipython",
    "version": 3
   },
   "file_extension": ".py",
   "mimetype": "text/x-python",
   "name": "python",
   "nbconvert_exporter": "python",
   "pygments_lexer": "ipython3",
   "version": "3.8.2"
  }
 },
 "nbformat": 4,
 "nbformat_minor": 4
}
